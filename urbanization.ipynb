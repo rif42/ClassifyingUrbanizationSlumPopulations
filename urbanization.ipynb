{
 "cells": [
  {
   "attachments": {},
   "cell_type": "markdown",
   "metadata": {},
   "source": [
    "1. datasets chosen : https://ourworldindata.org/urbanization\n",
    "2. data preprocessing : \n",
    "3. why do i chose the data : \n",
    "    - the data collected spans from 1960 – 2021\n",
    "    - part of the UNICEF-backed global World Development Indicator\n",
    "    - high quality, accurate, clearly defined, and well-tested data\n",
    "    - provides breakdown of data for each region, even country\n",
    "4. the problem : Urbanization does not always mean positive, a lot of urban population can live in slums that negatively affect the economy.\n",
    "5. Classify countries based on countries with high number of urbanization but low number of population living in slums\n",
    "6. explain results with graphics, solution\n",
    "7. remarks and suggestion\n",
    "8. write article"
   ]
  },
  {
   "attachments": {},
   "cell_type": "markdown",
   "metadata": {},
   "source": [
    "# Datasets Chosen \n",
    "- Number of people living in urban areas\n",
    "\n",
    "https://ourworldindata.org/urbanization"
   ]
  },
  {
   "attachments": {},
   "cell_type": "markdown",
   "metadata": {},
   "source": [
    "# Data Preprocessing\n",
    "- import dataset\n",
    "- filter for year\n",
    "- make another dataset for counting migration in 5 yrs period\n",
    "- remove unnecessary columns"
   ]
  },
  {
   "cell_type": "code",
   "execution_count": 368,
   "metadata": {},
   "outputs": [
    {
     "data": {
      "text/html": [
       "<div>\n",
       "<style scoped>\n",
       "    .dataframe tbody tr th:only-of-type {\n",
       "        vertical-align: middle;\n",
       "    }\n",
       "\n",
       "    .dataframe tbody tr th {\n",
       "        vertical-align: top;\n",
       "    }\n",
       "\n",
       "    .dataframe thead th {\n",
       "        text-align: right;\n",
       "    }\n",
       "</style>\n",
       "<table border=\"1\" class=\"dataframe\">\n",
       "  <thead>\n",
       "    <tr style=\"text-align: right;\">\n",
       "      <th></th>\n",
       "      <th>Entity</th>\n",
       "      <th>Code</th>\n",
       "      <th>Year</th>\n",
       "      <th>Urban population</th>\n",
       "      <th>Rural population</th>\n",
       "    </tr>\n",
       "  </thead>\n",
       "  <tbody>\n",
       "    <tr>\n",
       "      <th>0</th>\n",
       "      <td>Afghanistan</td>\n",
       "      <td>AFG</td>\n",
       "      <td>1960</td>\n",
       "      <td>724373</td>\n",
       "      <td>7898093.0</td>\n",
       "    </tr>\n",
       "    <tr>\n",
       "      <th>1</th>\n",
       "      <td>Afghanistan</td>\n",
       "      <td>AFG</td>\n",
       "      <td>1961</td>\n",
       "      <td>763336</td>\n",
       "      <td>8026804.0</td>\n",
       "    </tr>\n",
       "    <tr>\n",
       "      <th>2</th>\n",
       "      <td>Afghanistan</td>\n",
       "      <td>AFG</td>\n",
       "      <td>1962</td>\n",
       "      <td>805062</td>\n",
       "      <td>8163985.0</td>\n",
       "    </tr>\n",
       "    <tr>\n",
       "      <th>3</th>\n",
       "      <td>Afghanistan</td>\n",
       "      <td>AFG</td>\n",
       "      <td>1963</td>\n",
       "      <td>849446</td>\n",
       "      <td>8308019.0</td>\n",
       "    </tr>\n",
       "    <tr>\n",
       "      <th>4</th>\n",
       "      <td>Afghanistan</td>\n",
       "      <td>AFG</td>\n",
       "      <td>1964</td>\n",
       "      <td>896820</td>\n",
       "      <td>8458694.0</td>\n",
       "    </tr>\n",
       "  </tbody>\n",
       "</table>\n",
       "</div>"
      ],
      "text/plain": [
       "        Entity Code  Year  Urban population  Rural population\n",
       "0  Afghanistan  AFG  1960            724373         7898093.0\n",
       "1  Afghanistan  AFG  1961            763336         8026804.0\n",
       "2  Afghanistan  AFG  1962            805062         8163985.0\n",
       "3  Afghanistan  AFG  1963            849446         8308019.0\n",
       "4  Afghanistan  AFG  1964            896820         8458694.0"
      ]
     },
     "execution_count": 368,
     "metadata": {},
     "output_type": "execute_result"
    }
   ],
   "source": [
    "import pandas as pd\n",
    "\n",
    "# import all data\n",
    "urban = pd.read_csv('./urban.csv')\n",
    "\n",
    "urban.head()"
   ]
  },
  {
   "cell_type": "code",
   "execution_count": 369,
   "metadata": {},
   "outputs": [
    {
     "data": {
      "text/html": [
       "<div>\n",
       "<style scoped>\n",
       "    .dataframe tbody tr th:only-of-type {\n",
       "        vertical-align: middle;\n",
       "    }\n",
       "\n",
       "    .dataframe tbody tr th {\n",
       "        vertical-align: top;\n",
       "    }\n",
       "\n",
       "    .dataframe thead th {\n",
       "        text-align: right;\n",
       "    }\n",
       "</style>\n",
       "<table border=\"1\" class=\"dataframe\">\n",
       "  <thead>\n",
       "    <tr style=\"text-align: right;\">\n",
       "      <th></th>\n",
       "      <th>Entity</th>\n",
       "      <th>Code</th>\n",
       "      <th>Year</th>\n",
       "      <th>Urban population living in slums</th>\n",
       "    </tr>\n",
       "  </thead>\n",
       "  <tbody>\n",
       "    <tr>\n",
       "      <th>0</th>\n",
       "      <td>Afghanistan</td>\n",
       "      <td>AFG</td>\n",
       "      <td>2006</td>\n",
       "      <td>3706745</td>\n",
       "    </tr>\n",
       "    <tr>\n",
       "      <th>1</th>\n",
       "      <td>Afghanistan</td>\n",
       "      <td>AFG</td>\n",
       "      <td>2008</td>\n",
       "      <td>3919555</td>\n",
       "    </tr>\n",
       "    <tr>\n",
       "      <th>2</th>\n",
       "      <td>Afghanistan</td>\n",
       "      <td>AFG</td>\n",
       "      <td>2010</td>\n",
       "      <td>4336525</td>\n",
       "    </tr>\n",
       "    <tr>\n",
       "      <th>3</th>\n",
       "      <td>Afghanistan</td>\n",
       "      <td>AFG</td>\n",
       "      <td>2012</td>\n",
       "      <td>4949920</td>\n",
       "    </tr>\n",
       "    <tr>\n",
       "      <th>4</th>\n",
       "      <td>Afghanistan</td>\n",
       "      <td>AFG</td>\n",
       "      <td>2014</td>\n",
       "      <td>5605681</td>\n",
       "    </tr>\n",
       "  </tbody>\n",
       "</table>\n",
       "</div>"
      ],
      "text/plain": [
       "        Entity Code  Year  Urban population living in slums\n",
       "0  Afghanistan  AFG  2006                           3706745\n",
       "1  Afghanistan  AFG  2008                           3919555\n",
       "2  Afghanistan  AFG  2010                           4336525\n",
       "3  Afghanistan  AFG  2012                           4949920\n",
       "4  Afghanistan  AFG  2014                           5605681"
      ]
     },
     "execution_count": 369,
     "metadata": {},
     "output_type": "execute_result"
    }
   ],
   "source": [
    "slums = pd.read_csv('./slums.csv')\n",
    "slums.head()"
   ]
  },
  {
   "cell_type": "code",
   "execution_count": 370,
   "metadata": {},
   "outputs": [
    {
     "data": {
      "text/html": [
       "<div>\n",
       "<style scoped>\n",
       "    .dataframe tbody tr th:only-of-type {\n",
       "        vertical-align: middle;\n",
       "    }\n",
       "\n",
       "    .dataframe tbody tr th {\n",
       "        vertical-align: top;\n",
       "    }\n",
       "\n",
       "    .dataframe thead th {\n",
       "        text-align: right;\n",
       "    }\n",
       "</style>\n",
       "<table border=\"1\" class=\"dataframe\">\n",
       "  <thead>\n",
       "    <tr style=\"text-align: right;\">\n",
       "      <th></th>\n",
       "      <th>Entity</th>\n",
       "      <th>Code</th>\n",
       "      <th>Year</th>\n",
       "      <th>Urban population</th>\n",
       "      <th>Rural population</th>\n",
       "    </tr>\n",
       "  </thead>\n",
       "  <tbody>\n",
       "    <tr>\n",
       "      <th>0</th>\n",
       "      <td>Afghanistan</td>\n",
       "      <td>AFG</td>\n",
       "      <td>1960</td>\n",
       "      <td>724373</td>\n",
       "      <td>7898093.0</td>\n",
       "    </tr>\n",
       "    <tr>\n",
       "      <th>1</th>\n",
       "      <td>Afghanistan</td>\n",
       "      <td>AFG</td>\n",
       "      <td>1961</td>\n",
       "      <td>763336</td>\n",
       "      <td>8026804.0</td>\n",
       "    </tr>\n",
       "    <tr>\n",
       "      <th>2</th>\n",
       "      <td>Afghanistan</td>\n",
       "      <td>AFG</td>\n",
       "      <td>1962</td>\n",
       "      <td>805062</td>\n",
       "      <td>8163985.0</td>\n",
       "    </tr>\n",
       "    <tr>\n",
       "      <th>3</th>\n",
       "      <td>Afghanistan</td>\n",
       "      <td>AFG</td>\n",
       "      <td>1963</td>\n",
       "      <td>849446</td>\n",
       "      <td>8308019.0</td>\n",
       "    </tr>\n",
       "    <tr>\n",
       "      <th>4</th>\n",
       "      <td>Afghanistan</td>\n",
       "      <td>AFG</td>\n",
       "      <td>1964</td>\n",
       "      <td>896820</td>\n",
       "      <td>8458694.0</td>\n",
       "    </tr>\n",
       "  </tbody>\n",
       "</table>\n",
       "</div>"
      ],
      "text/plain": [
       "        Entity Code  Year  Urban population  Rural population\n",
       "0  Afghanistan  AFG  1960            724373         7898093.0\n",
       "1  Afghanistan  AFG  1961            763336         8026804.0\n",
       "2  Afghanistan  AFG  1962            805062         8163985.0\n",
       "3  Afghanistan  AFG  1963            849446         8308019.0\n",
       "4  Afghanistan  AFG  1964            896820         8458694.0"
      ]
     },
     "execution_count": 370,
     "metadata": {},
     "output_type": "execute_result"
    }
   ],
   "source": [
    "#exclude world, regions, and income groups\n",
    "urban = urban[urban['Entity'].isin([\n",
    "    'Low-income countries',\n",
    "    'Lower-middle-income countries',\n",
    "    'Middle-income countries',\n",
    "    'Upper-middle-income countries',\n",
    "    'High-income countries', \n",
    "    'Middle East and North Africa (WB)', \n",
    "    'North America (WB)', \n",
    "    'South Asia (WB)',\n",
    "    'Sub-Saharan Africa (WB)', \n",
    "    'Latin America and Caribbean (WB)',\n",
    "    'Europe and Central Asia (WB)',\n",
    "    'European Union (27)',\n",
    "    'East Asia and Pacific (WB)',\n",
    "    'World'])==False].reset_index(drop=True)\n",
    "\n",
    "urban.head()"
   ]
  },
  {
   "cell_type": "code",
   "execution_count": 371,
   "metadata": {},
   "outputs": [
    {
     "data": {
      "text/html": [
       "<div>\n",
       "<style scoped>\n",
       "    .dataframe tbody tr th:only-of-type {\n",
       "        vertical-align: middle;\n",
       "    }\n",
       "\n",
       "    .dataframe tbody tr th {\n",
       "        vertical-align: top;\n",
       "    }\n",
       "\n",
       "    .dataframe thead th {\n",
       "        text-align: right;\n",
       "    }\n",
       "</style>\n",
       "<table border=\"1\" class=\"dataframe\">\n",
       "  <thead>\n",
       "    <tr style=\"text-align: right;\">\n",
       "      <th></th>\n",
       "      <th>Entity</th>\n",
       "      <th>Code</th>\n",
       "      <th>Year</th>\n",
       "      <th>Urban population living in slums</th>\n",
       "    </tr>\n",
       "  </thead>\n",
       "  <tbody>\n",
       "    <tr>\n",
       "      <th>0</th>\n",
       "      <td>Afghanistan</td>\n",
       "      <td>AFG</td>\n",
       "      <td>2006</td>\n",
       "      <td>3706745</td>\n",
       "    </tr>\n",
       "    <tr>\n",
       "      <th>1</th>\n",
       "      <td>Afghanistan</td>\n",
       "      <td>AFG</td>\n",
       "      <td>2008</td>\n",
       "      <td>3919555</td>\n",
       "    </tr>\n",
       "    <tr>\n",
       "      <th>2</th>\n",
       "      <td>Afghanistan</td>\n",
       "      <td>AFG</td>\n",
       "      <td>2010</td>\n",
       "      <td>4336525</td>\n",
       "    </tr>\n",
       "    <tr>\n",
       "      <th>3</th>\n",
       "      <td>Afghanistan</td>\n",
       "      <td>AFG</td>\n",
       "      <td>2012</td>\n",
       "      <td>4949920</td>\n",
       "    </tr>\n",
       "    <tr>\n",
       "      <th>4</th>\n",
       "      <td>Afghanistan</td>\n",
       "      <td>AFG</td>\n",
       "      <td>2014</td>\n",
       "      <td>5605681</td>\n",
       "    </tr>\n",
       "  </tbody>\n",
       "</table>\n",
       "</div>"
      ],
      "text/plain": [
       "        Entity Code  Year  Urban population living in slums\n",
       "0  Afghanistan  AFG  2006                           3706745\n",
       "1  Afghanistan  AFG  2008                           3919555\n",
       "2  Afghanistan  AFG  2010                           4336525\n",
       "3  Afghanistan  AFG  2012                           4949920\n",
       "4  Afghanistan  AFG  2014                           5605681"
      ]
     },
     "execution_count": 371,
     "metadata": {},
     "output_type": "execute_result"
    }
   ],
   "source": [
    "#exclude world, regions, and income groups\n",
    "slums = slums[slums['Entity'].isin([\n",
    "    'Low-income countries',\n",
    "    'Lower-middle-income countries',\n",
    "    'Middle-income countries',\n",
    "    'Upper-middle-income countries',\n",
    "    'High-income countries', \n",
    "    'Middle East and North Africa (WB)', \n",
    "    'North America (WB)', \n",
    "    'South Asia (WB)',\n",
    "    'Sub-Saharan Africa (WB)', \n",
    "    'Latin America and Caribbean (WB)',\n",
    "    'Europe and Central Asia (WB)',\n",
    "    'European Union (27)',\n",
    "    'East Asia and Pacific (WB)',\n",
    "    'World'])==False].reset_index(drop=True)\n",
    "\n",
    "slums.head()"
   ]
  },
  {
   "cell_type": "code",
   "execution_count": 372,
   "metadata": {},
   "outputs": [
    {
     "name": "stdout",
     "output_type": "stream",
     "text": [
      "<class 'pandas.core.frame.DataFrame'>\n",
      "RangeIndex: 215 entries, 0 to 214\n",
      "Data columns (total 5 columns):\n",
      " #   Column            Non-Null Count  Dtype  \n",
      "---  ------            --------------  -----  \n",
      " 0   Entity            215 non-null    object \n",
      " 1   Code              213 non-null    object \n",
      " 2   Year              215 non-null    int64  \n",
      " 3   Urban population  215 non-null    int64  \n",
      " 4   Rural population  215 non-null    float64\n",
      "dtypes: float64(1), int64(2), object(2)\n",
      "memory usage: 8.5+ KB\n"
     ]
    }
   ],
   "source": [
    "# filter for year, only 2020 is counted\n",
    "urban2 = urban.copy()\n",
    "urban2 = urban2[urban2['Year'].isin([2020])].reset_index(drop=True)\n",
    "\n",
    "# urban2.head()\n",
    "urban2.info()"
   ]
  },
  {
   "cell_type": "code",
   "execution_count": 373,
   "metadata": {},
   "outputs": [
    {
     "name": "stdout",
     "output_type": "stream",
     "text": [
      "<class 'pandas.core.frame.DataFrame'>\n",
      "RangeIndex: 80 entries, 0 to 79\n",
      "Data columns (total 4 columns):\n",
      " #   Column                            Non-Null Count  Dtype \n",
      "---  ------                            --------------  ----- \n",
      " 0   Entity                            80 non-null     object\n",
      " 1   Code                              79 non-null     object\n",
      " 2   Year                              80 non-null     int64 \n",
      " 3   Urban population living in slums  80 non-null     int64 \n",
      "dtypes: int64(2), object(2)\n",
      "memory usage: 2.6+ KB\n"
     ]
    }
   ],
   "source": [
    "slums2 = slums.copy()\n",
    "slums2 = slums2[slums2['Year'].isin([2020])].reset_index(drop=True)\n",
    "\n",
    "# slums2.head()\n",
    "slums2.info()"
   ]
  },
  {
   "cell_type": "code",
   "execution_count": 374,
   "metadata": {},
   "outputs": [],
   "source": [
    "# delete entity that doesnt exist in slums\n",
    "urban3 = urban2.copy()\n",
    "urban3 = urban3[urban3['Entity'].isin(slums2['Entity'])].reset_index(drop=True)"
   ]
  },
  {
   "cell_type": "code",
   "execution_count": 375,
   "metadata": {},
   "outputs": [
    {
     "data": {
      "text/plain": [
       "True"
      ]
     },
     "execution_count": 375,
     "metadata": {},
     "output_type": "execute_result"
    }
   ],
   "source": [
    "# do an integrity check to make sure the entities are the same\n",
    "urban3['Entity'].equals(slums2['Entity'])"
   ]
  },
  {
   "cell_type": "code",
   "execution_count": 376,
   "metadata": {},
   "outputs": [
    {
     "data": {
      "text/html": [
       "<div>\n",
       "<style scoped>\n",
       "    .dataframe tbody tr th:only-of-type {\n",
       "        vertical-align: middle;\n",
       "    }\n",
       "\n",
       "    .dataframe tbody tr th {\n",
       "        vertical-align: top;\n",
       "    }\n",
       "\n",
       "    .dataframe thead th {\n",
       "        text-align: right;\n",
       "    }\n",
       "</style>\n",
       "<table border=\"1\" class=\"dataframe\">\n",
       "  <thead>\n",
       "    <tr style=\"text-align: right;\">\n",
       "      <th></th>\n",
       "      <th>Urban population living in slums</th>\n",
       "    </tr>\n",
       "  </thead>\n",
       "  <tbody>\n",
       "    <tr>\n",
       "      <th>0</th>\n",
       "      <td>7434756</td>\n",
       "    </tr>\n",
       "    <tr>\n",
       "      <th>1</th>\n",
       "      <td>49354</td>\n",
       "    </tr>\n",
       "    <tr>\n",
       "      <th>2</th>\n",
       "      <td>4249876</td>\n",
       "    </tr>\n",
       "    <tr>\n",
       "      <th>3</th>\n",
       "      <td>13983955</td>\n",
       "    </tr>\n",
       "    <tr>\n",
       "      <th>4</th>\n",
       "      <td>149117</td>\n",
       "    </tr>\n",
       "  </tbody>\n",
       "</table>\n",
       "</div>"
      ],
      "text/plain": [
       "   Urban population living in slums\n",
       "0                           7434756\n",
       "1                             49354\n",
       "2                           4249876\n",
       "3                          13983955\n",
       "4                            149117"
      ]
     },
     "execution_count": 376,
     "metadata": {},
     "output_type": "execute_result"
    }
   ],
   "source": [
    "# delete unnecessary columns in slums\n",
    "slums3 = slums2.copy()\n",
    "slums3 = slums3.drop(columns=['Entity', 'Code', 'Year'])\n",
    "\n",
    "slums3.head()"
   ]
  },
  {
   "cell_type": "code",
   "execution_count": 377,
   "metadata": {},
   "outputs": [
    {
     "data": {
      "text/html": [
       "<div>\n",
       "<style scoped>\n",
       "    .dataframe tbody tr th:only-of-type {\n",
       "        vertical-align: middle;\n",
       "    }\n",
       "\n",
       "    .dataframe tbody tr th {\n",
       "        vertical-align: top;\n",
       "    }\n",
       "\n",
       "    .dataframe thead th {\n",
       "        text-align: right;\n",
       "    }\n",
       "</style>\n",
       "<table border=\"1\" class=\"dataframe\">\n",
       "  <thead>\n",
       "    <tr style=\"text-align: right;\">\n",
       "      <th></th>\n",
       "      <th>Entity</th>\n",
       "      <th>Urban population</th>\n",
       "      <th>Rural population</th>\n",
       "    </tr>\n",
       "  </thead>\n",
       "  <tbody>\n",
       "    <tr>\n",
       "      <th>0</th>\n",
       "      <td>Afghanistan</td>\n",
       "      <td>10142913</td>\n",
       "      <td>28829316.0</td>\n",
       "    </tr>\n",
       "    <tr>\n",
       "      <th>1</th>\n",
       "      <td>Albania</td>\n",
       "      <td>1762645</td>\n",
       "      <td>1075204.0</td>\n",
       "    </tr>\n",
       "    <tr>\n",
       "      <th>2</th>\n",
       "      <td>Algeria</td>\n",
       "      <td>32038217</td>\n",
       "      <td>11413449.0</td>\n",
       "    </tr>\n",
       "    <tr>\n",
       "      <th>3</th>\n",
       "      <td>Angola</td>\n",
       "      <td>22338586</td>\n",
       "      <td>11089900.0</td>\n",
       "    </tr>\n",
       "    <tr>\n",
       "      <th>4</th>\n",
       "      <td>Armenia</td>\n",
       "      <td>1776315</td>\n",
       "      <td>1029293.0</td>\n",
       "    </tr>\n",
       "  </tbody>\n",
       "</table>\n",
       "</div>"
      ],
      "text/plain": [
       "        Entity  Urban population  Rural population\n",
       "0  Afghanistan          10142913        28829316.0\n",
       "1      Albania           1762645         1075204.0\n",
       "2      Algeria          32038217        11413449.0\n",
       "3       Angola          22338586        11089900.0\n",
       "4      Armenia           1776315         1029293.0"
      ]
     },
     "execution_count": 377,
     "metadata": {},
     "output_type": "execute_result"
    }
   ],
   "source": [
    "urban3 = urban3.drop(columns=['Code', 'Year'])\n",
    "\n",
    "urban3.head()"
   ]
  },
  {
   "cell_type": "code",
   "execution_count": 378,
   "metadata": {},
   "outputs": [
    {
     "data": {
      "text/html": [
       "<div>\n",
       "<style scoped>\n",
       "    .dataframe tbody tr th:only-of-type {\n",
       "        vertical-align: middle;\n",
       "    }\n",
       "\n",
       "    .dataframe tbody tr th {\n",
       "        vertical-align: top;\n",
       "    }\n",
       "\n",
       "    .dataframe thead th {\n",
       "        text-align: right;\n",
       "    }\n",
       "</style>\n",
       "<table border=\"1\" class=\"dataframe\">\n",
       "  <thead>\n",
       "    <tr style=\"text-align: right;\">\n",
       "      <th></th>\n",
       "      <th>Entity</th>\n",
       "      <th>Urban population</th>\n",
       "      <th>Rural population</th>\n",
       "      <th>Urban population living in slums</th>\n",
       "    </tr>\n",
       "  </thead>\n",
       "  <tbody>\n",
       "    <tr>\n",
       "      <th>0</th>\n",
       "      <td>Afghanistan</td>\n",
       "      <td>10142913</td>\n",
       "      <td>28829316.0</td>\n",
       "      <td>7434756</td>\n",
       "    </tr>\n",
       "    <tr>\n",
       "      <th>1</th>\n",
       "      <td>Albania</td>\n",
       "      <td>1762645</td>\n",
       "      <td>1075204.0</td>\n",
       "      <td>49354</td>\n",
       "    </tr>\n",
       "    <tr>\n",
       "      <th>2</th>\n",
       "      <td>Algeria</td>\n",
       "      <td>32038217</td>\n",
       "      <td>11413449.0</td>\n",
       "      <td>4249876</td>\n",
       "    </tr>\n",
       "    <tr>\n",
       "      <th>3</th>\n",
       "      <td>Angola</td>\n",
       "      <td>22338586</td>\n",
       "      <td>11089900.0</td>\n",
       "      <td>13983955</td>\n",
       "    </tr>\n",
       "    <tr>\n",
       "      <th>4</th>\n",
       "      <td>Armenia</td>\n",
       "      <td>1776315</td>\n",
       "      <td>1029293.0</td>\n",
       "      <td>149117</td>\n",
       "    </tr>\n",
       "  </tbody>\n",
       "</table>\n",
       "</div>"
      ],
      "text/plain": [
       "        Entity  Urban population  Rural population  \\\n",
       "0  Afghanistan          10142913        28829316.0   \n",
       "1      Albania           1762645         1075204.0   \n",
       "2      Algeria          32038217        11413449.0   \n",
       "3       Angola          22338586        11089900.0   \n",
       "4      Armenia           1776315         1029293.0   \n",
       "\n",
       "   Urban population living in slums  \n",
       "0                           7434756  \n",
       "1                             49354  \n",
       "2                           4249876  \n",
       "3                          13983955  \n",
       "4                            149117  "
      ]
     },
     "execution_count": 378,
     "metadata": {},
     "output_type": "execute_result"
    }
   ],
   "source": [
    "# combine urban and slums data\n",
    "urban4 = pd.concat([urban3, slums3], axis=1, join='inner').reset_index(drop=True)\n",
    "\n",
    "urban4.head()"
   ]
  },
  {
   "cell_type": "code",
   "execution_count": 379,
   "metadata": {},
   "outputs": [
    {
     "data": {
      "text/html": [
       "<div>\n",
       "<style scoped>\n",
       "    .dataframe tbody tr th:only-of-type {\n",
       "        vertical-align: middle;\n",
       "    }\n",
       "\n",
       "    .dataframe tbody tr th {\n",
       "        vertical-align: top;\n",
       "    }\n",
       "\n",
       "    .dataframe thead th {\n",
       "        text-align: right;\n",
       "    }\n",
       "</style>\n",
       "<table border=\"1\" class=\"dataframe\">\n",
       "  <thead>\n",
       "    <tr style=\"text-align: right;\">\n",
       "      <th></th>\n",
       "      <th>Country</th>\n",
       "      <th>Urban%</th>\n",
       "      <th>Rural%</th>\n",
       "      <th>SlumInUrban%</th>\n",
       "    </tr>\n",
       "  </thead>\n",
       "  <tbody>\n",
       "    <tr>\n",
       "      <th>0</th>\n",
       "      <td>Afghanistan</td>\n",
       "      <td>10142913</td>\n",
       "      <td>28829316.0</td>\n",
       "      <td>7434756</td>\n",
       "    </tr>\n",
       "    <tr>\n",
       "      <th>1</th>\n",
       "      <td>Albania</td>\n",
       "      <td>1762645</td>\n",
       "      <td>1075204.0</td>\n",
       "      <td>49354</td>\n",
       "    </tr>\n",
       "    <tr>\n",
       "      <th>2</th>\n",
       "      <td>Algeria</td>\n",
       "      <td>32038217</td>\n",
       "      <td>11413449.0</td>\n",
       "      <td>4249876</td>\n",
       "    </tr>\n",
       "    <tr>\n",
       "      <th>3</th>\n",
       "      <td>Angola</td>\n",
       "      <td>22338586</td>\n",
       "      <td>11089900.0</td>\n",
       "      <td>13983955</td>\n",
       "    </tr>\n",
       "    <tr>\n",
       "      <th>4</th>\n",
       "      <td>Armenia</td>\n",
       "      <td>1776315</td>\n",
       "      <td>1029293.0</td>\n",
       "      <td>149117</td>\n",
       "    </tr>\n",
       "  </tbody>\n",
       "</table>\n",
       "</div>"
      ],
      "text/plain": [
       "       Country    Urban%      Rural%  SlumInUrban%\n",
       "0  Afghanistan  10142913  28829316.0       7434756\n",
       "1      Albania   1762645   1075204.0         49354\n",
       "2      Algeria  32038217  11413449.0       4249876\n",
       "3       Angola  22338586  11089900.0      13983955\n",
       "4      Armenia   1776315   1029293.0        149117"
      ]
     },
     "execution_count": 379,
     "metadata": {},
     "output_type": "execute_result"
    }
   ],
   "source": [
    "# rename columns\n",
    "urban4 = urban4.rename(columns={'Entity':'Country', 'Urban population':'Urban%', 'Rural population':'Rural%', 'Urban population living in slums':'SlumInUrban%'})\n",
    "urban4.head()"
   ]
  },
  {
   "cell_type": "code",
   "execution_count": 380,
   "metadata": {},
   "outputs": [
    {
     "data": {
      "text/html": [
       "<div>\n",
       "<style scoped>\n",
       "    .dataframe tbody tr th:only-of-type {\n",
       "        vertical-align: middle;\n",
       "    }\n",
       "\n",
       "    .dataframe tbody tr th {\n",
       "        vertical-align: top;\n",
       "    }\n",
       "\n",
       "    .dataframe thead th {\n",
       "        text-align: right;\n",
       "    }\n",
       "</style>\n",
       "<table border=\"1\" class=\"dataframe\">\n",
       "  <thead>\n",
       "    <tr style=\"text-align: right;\">\n",
       "      <th></th>\n",
       "      <th>Country</th>\n",
       "      <th>Urban%</th>\n",
       "      <th>SlumInUrban%</th>\n",
       "    </tr>\n",
       "  </thead>\n",
       "  <tbody>\n",
       "    <tr>\n",
       "      <th>0</th>\n",
       "      <td>Afghanistan</td>\n",
       "      <td>26.03</td>\n",
       "      <td>73.30</td>\n",
       "    </tr>\n",
       "    <tr>\n",
       "      <th>1</th>\n",
       "      <td>Albania</td>\n",
       "      <td>62.11</td>\n",
       "      <td>2.80</td>\n",
       "    </tr>\n",
       "    <tr>\n",
       "      <th>2</th>\n",
       "      <td>Algeria</td>\n",
       "      <td>73.73</td>\n",
       "      <td>13.27</td>\n",
       "    </tr>\n",
       "    <tr>\n",
       "      <th>3</th>\n",
       "      <td>Angola</td>\n",
       "      <td>66.83</td>\n",
       "      <td>62.60</td>\n",
       "    </tr>\n",
       "    <tr>\n",
       "      <th>4</th>\n",
       "      <td>Armenia</td>\n",
       "      <td>63.31</td>\n",
       "      <td>8.39</td>\n",
       "    </tr>\n",
       "  </tbody>\n",
       "</table>\n",
       "</div>"
      ],
      "text/plain": [
       "       Country  Urban%  SlumInUrban%\n",
       "0  Afghanistan   26.03         73.30\n",
       "1      Albania   62.11          2.80\n",
       "2      Algeria   73.73         13.27\n",
       "3       Angola   66.83         62.60\n",
       "4      Armenia   63.31          8.39"
      ]
     },
     "execution_count": 380,
     "metadata": {},
     "output_type": "execute_result"
    }
   ],
   "source": [
    "# normalize all values, convert to precentage\n",
    "urban5 = urban4.copy()\n",
    "urban5['SlumInUrban%'] = round((urban5['SlumInUrban%']/urban5['Urban%'])*100,2)\n",
    "urban5['Urban%'] = round((urban5['Urban%']/(urban5['Urban%']+urban5['Rural%']))*100,2)\n",
    "\n",
    "# delete Rural% column\n",
    "urban5 = urban5.drop(columns=['Rural%'])\n",
    "\n",
    "urban5.head()"
   ]
  },
  {
   "attachments": {},
   "cell_type": "markdown",
   "metadata": {},
   "source": [
    "# Reason for choosing the data\n",
    "- the data collected spans from 1960 – 2021\n",
    "- part of the UNICEF-backed global World Development Indicator\n",
    "- high quality, accurate, clearly defined, and well-tested data\n",
    "- provides breakdown of data for each region, even country"
   ]
  },
  {
   "attachments": {},
   "cell_type": "markdown",
   "metadata": {},
   "source": [
    "# The Problem\n",
    "\n",
    "Behind the number of urbanization, lies a big problem that's arguably worse than low number of urbanization : the population of people living in urban slums. Urban slums is not a good place to live. It has strong ties to low income and high crime rate, which could cause other problems. Analyzing which countries has good urbanization number will tell us how that country deal with slums, which hopefully gives some insight on how to make urbanization better."
   ]
  },
  {
   "attachments": {},
   "cell_type": "markdown",
   "metadata": {},
   "source": [
    "# Classify Countries Urbanization\n",
    "\n",
    "We will analyze the levels of urbanization in every country in the world in 2020. We will use k-means algorithm to cluster the data, and plotly.express to graph it"
   ]
  },
  {
   "cell_type": "code",
   "execution_count": 381,
   "metadata": {},
   "outputs": [
    {
     "data": {
      "application/vnd.plotly.v1+json": {
       "config": {
        "plotlyServerURL": "https://plot.ly"
       },
       "data": [
        {
         "customdata": [
          [
           "Afghanistan"
          ],
          [
           "Albania"
          ],
          [
           "Algeria"
          ],
          [
           "Angola"
          ],
          [
           "Armenia"
          ],
          [
           "Bangladesh"
          ],
          [
           "Belarus"
          ],
          [
           "Belize"
          ],
          [
           "Benin"
          ],
          [
           "Botswana"
          ],
          [
           "Burkina Faso"
          ],
          [
           "Burundi"
          ],
          [
           "Cambodia"
          ],
          [
           "Cameroon"
          ],
          [
           "Chad"
          ],
          [
           "Colombia"
          ],
          [
           "Congo"
          ],
          [
           "Costa Rica"
          ],
          [
           "Cote d'Ivoire"
          ],
          [
           "Cuba"
          ],
          [
           "Democratic Republic of Congo"
          ],
          [
           "Dominican Republic"
          ],
          [
           "East Timor"
          ],
          [
           "El Salvador"
          ],
          [
           "Eswatini"
          ],
          [
           "Ethiopia"
          ],
          [
           "Fiji"
          ],
          [
           "Gambia"
          ],
          [
           "Georgia"
          ],
          [
           "Ghana"
          ],
          [
           "Guatemala"
          ],
          [
           "Guinea"
          ],
          [
           "Guinea-Bissau"
          ],
          [
           "Guyana"
          ],
          [
           "Haiti"
          ],
          [
           "India"
          ],
          [
           "Indonesia"
          ],
          [
           "Iraq"
          ],
          [
           "Ireland"
          ],
          [
           "Jordan"
          ],
          [
           "Kazakhstan"
          ],
          [
           "Kenya"
          ],
          [
           "Kyrgyzstan"
          ],
          [
           "Laos"
          ],
          [
           "Lesotho"
          ],
          [
           "Liberia"
          ],
          [
           "Madagascar"
          ],
          [
           "Malawi"
          ],
          [
           "Maldives"
          ],
          [
           "Mali"
          ],
          [
           "Mauritania"
          ],
          [
           "Mexico"
          ],
          [
           "Mongolia"
          ],
          [
           "Montenegro"
          ],
          [
           "Morocco"
          ],
          [
           "Mozambique"
          ],
          [
           "Myanmar"
          ],
          [
           "Nepal"
          ],
          [
           "Nigeria"
          ],
          [
           "Pakistan"
          ],
          [
           "Paraguay"
          ],
          [
           "Philippines"
          ],
          [
           "Rwanda"
          ],
          [
           "Sao Tome and Principe"
          ],
          [
           "Senegal"
          ],
          [
           "Sierra Leone"
          ],
          [
           "South Africa"
          ],
          [
           "Sudan"
          ],
          [
           "Suriname"
          ],
          [
           "Tajikistan"
          ],
          [
           "Tanzania"
          ],
          [
           "Thailand"
          ],
          [
           "Togo"
          ],
          [
           "Tunisia"
          ],
          [
           "Turkmenistan"
          ],
          [
           "Uganda"
          ],
          [
           "Vietnam"
          ],
          [
           "West Bank and Gaza"
          ],
          [
           "Zambia"
          ],
          [
           "Zimbabwe"
          ]
         ],
         "hovertemplate": "Urban%=%{marker.color}<br>SlumInUrban%=%{y}<br>Country=%{customdata[0]}<extra></extra>",
         "legendgroup": "",
         "marker": {
          "color": [
           26.03,
           62.11,
           73.73,
           66.83,
           63.31,
           38.18,
           79.48,
           46.02,
           48.41,
           70.88,
           30.61,
           13.71,
           24.23,
           57.56,
           23.52,
           81.43,
           67.83,
           80.77,
           51.71,
           77.19,
           45.64,
           82.54,
           31.32,
           73.44,
           24.17,
           21.69,
           57.25,
           62.58,
           59.45,
           57.35,
           51.84,
           36.87,
           44.2,
           26.79,
           57.09,
           34.93,
           56.64,
           70.89,
           63.65,
           91.42,
           57.67,
           28,
           36.86,
           36.29,
           29.03,
           52.09,
           38.53,
           17.43,
           40.67,
           43.91,
           55.33,
           80.73,
           68.66,
           67.49,
           63.53,
           37.07,
           31.14,
           20.58,
           51.96,
           37.17,
           62.18,
           47.41,
           17.43,
           74.35,
           48.12,
           42.92,
           67.35,
           35.25,
           66.15,
           27.51,
           35.23,
           51.43,
           42.8,
           69.57,
           52.52,
           24.95,
           37.34,
           76.72,
           44.63,
           32.24
          ],
          "coloraxis": "coloraxis",
          "symbol": "circle"
         },
         "mode": "markers",
         "name": "",
         "orientation": "v",
         "showlegend": false,
         "type": "scatter",
         "x": [
          26.03,
          62.11,
          73.73,
          66.83,
          63.31,
          38.18,
          79.48,
          46.02,
          48.41,
          70.88,
          30.61,
          13.71,
          24.23,
          57.56,
          23.52,
          81.43,
          67.83,
          80.77,
          51.71,
          77.19,
          45.64,
          82.54,
          31.32,
          73.44,
          24.17,
          21.69,
          57.25,
          62.58,
          59.45,
          57.35,
          51.84,
          36.87,
          44.2,
          26.79,
          57.09,
          34.93,
          56.64,
          70.89,
          63.65,
          91.42,
          57.67,
          28,
          36.86,
          36.29,
          29.03,
          52.09,
          38.53,
          17.43,
          40.67,
          43.91,
          55.33,
          80.73,
          68.66,
          67.49,
          63.53,
          37.07,
          31.14,
          20.58,
          51.96,
          37.17,
          62.18,
          47.41,
          17.43,
          74.35,
          48.12,
          42.92,
          67.35,
          35.25,
          66.15,
          27.51,
          35.23,
          51.43,
          42.8,
          69.57,
          52.52,
          24.95,
          37.34,
          76.72,
          44.63,
          32.24
         ],
         "xaxis": "x",
         "y": [
          73.3,
          2.8,
          13.27,
          62.6,
          8.39,
          51.87,
          2.28,
          15.73,
          67.93,
          39.6,
          26.55,
          36.8,
          39.7,
          32.67,
          82,
          9.7,
          44.18,
          3.55,
          53.21,
          10.54,
          78.36,
          11.25,
          33.9,
          16.5,
          10.81,
          64.31,
          9.4,
          38.89,
          7.08,
          33.49,
          37.6,
          49.01,
          60.81,
          12.14,
          48.9,
          49.01,
          19.41,
          49.34,
          8.5,
          16.72,
          0.79,
          50.81,
          2.44,
          21.8,
          25.55,
          63.88,
          67.42,
          49.78,
          34.85,
          41.93,
          56,
          17.6,
          17.88,
          8.8,
          10.85,
          54.96,
          58.28,
          40.28,
          48.98,
          55.97,
          15.1,
          36.62,
          38.35,
          52.6,
          31.6,
          50.65,
          24.2,
          73.7,
          15.8,
          17.06,
          40.88,
          6.79,
          38.5,
          7.64,
          8.51,
          54.01,
          5.77,
          19.5,
          48.26,
          21.57
         ],
         "yaxis": "y"
        }
       ],
       "layout": {
        "coloraxis": {
         "colorbar": {
          "title": {
           "text": "Urban%"
          }
         },
         "colorscale": [
          [
           0,
           "#0d0887"
          ],
          [
           0.1111111111111111,
           "#46039f"
          ],
          [
           0.2222222222222222,
           "#7201a8"
          ],
          [
           0.3333333333333333,
           "#9c179e"
          ],
          [
           0.4444444444444444,
           "#bd3786"
          ],
          [
           0.5555555555555556,
           "#d8576b"
          ],
          [
           0.6666666666666666,
           "#ed7953"
          ],
          [
           0.7777777777777778,
           "#fb9f3a"
          ],
          [
           0.8888888888888888,
           "#fdca26"
          ],
          [
           1,
           "#f0f921"
          ]
         ]
        },
        "legend": {
         "tracegroupgap": 0
        },
        "margin": {
         "t": 60
        },
        "template": {
         "data": {
          "bar": [
           {
            "error_x": {
             "color": "#2a3f5f"
            },
            "error_y": {
             "color": "#2a3f5f"
            },
            "marker": {
             "line": {
              "color": "#E5ECF6",
              "width": 0.5
             },
             "pattern": {
              "fillmode": "overlay",
              "size": 10,
              "solidity": 0.2
             }
            },
            "type": "bar"
           }
          ],
          "barpolar": [
           {
            "marker": {
             "line": {
              "color": "#E5ECF6",
              "width": 0.5
             },
             "pattern": {
              "fillmode": "overlay",
              "size": 10,
              "solidity": 0.2
             }
            },
            "type": "barpolar"
           }
          ],
          "carpet": [
           {
            "aaxis": {
             "endlinecolor": "#2a3f5f",
             "gridcolor": "white",
             "linecolor": "white",
             "minorgridcolor": "white",
             "startlinecolor": "#2a3f5f"
            },
            "baxis": {
             "endlinecolor": "#2a3f5f",
             "gridcolor": "white",
             "linecolor": "white",
             "minorgridcolor": "white",
             "startlinecolor": "#2a3f5f"
            },
            "type": "carpet"
           }
          ],
          "choropleth": [
           {
            "colorbar": {
             "outlinewidth": 0,
             "ticks": ""
            },
            "type": "choropleth"
           }
          ],
          "contour": [
           {
            "colorbar": {
             "outlinewidth": 0,
             "ticks": ""
            },
            "colorscale": [
             [
              0,
              "#0d0887"
             ],
             [
              0.1111111111111111,
              "#46039f"
             ],
             [
              0.2222222222222222,
              "#7201a8"
             ],
             [
              0.3333333333333333,
              "#9c179e"
             ],
             [
              0.4444444444444444,
              "#bd3786"
             ],
             [
              0.5555555555555556,
              "#d8576b"
             ],
             [
              0.6666666666666666,
              "#ed7953"
             ],
             [
              0.7777777777777778,
              "#fb9f3a"
             ],
             [
              0.8888888888888888,
              "#fdca26"
             ],
             [
              1,
              "#f0f921"
             ]
            ],
            "type": "contour"
           }
          ],
          "contourcarpet": [
           {
            "colorbar": {
             "outlinewidth": 0,
             "ticks": ""
            },
            "type": "contourcarpet"
           }
          ],
          "heatmap": [
           {
            "colorbar": {
             "outlinewidth": 0,
             "ticks": ""
            },
            "colorscale": [
             [
              0,
              "#0d0887"
             ],
             [
              0.1111111111111111,
              "#46039f"
             ],
             [
              0.2222222222222222,
              "#7201a8"
             ],
             [
              0.3333333333333333,
              "#9c179e"
             ],
             [
              0.4444444444444444,
              "#bd3786"
             ],
             [
              0.5555555555555556,
              "#d8576b"
             ],
             [
              0.6666666666666666,
              "#ed7953"
             ],
             [
              0.7777777777777778,
              "#fb9f3a"
             ],
             [
              0.8888888888888888,
              "#fdca26"
             ],
             [
              1,
              "#f0f921"
             ]
            ],
            "type": "heatmap"
           }
          ],
          "heatmapgl": [
           {
            "colorbar": {
             "outlinewidth": 0,
             "ticks": ""
            },
            "colorscale": [
             [
              0,
              "#0d0887"
             ],
             [
              0.1111111111111111,
              "#46039f"
             ],
             [
              0.2222222222222222,
              "#7201a8"
             ],
             [
              0.3333333333333333,
              "#9c179e"
             ],
             [
              0.4444444444444444,
              "#bd3786"
             ],
             [
              0.5555555555555556,
              "#d8576b"
             ],
             [
              0.6666666666666666,
              "#ed7953"
             ],
             [
              0.7777777777777778,
              "#fb9f3a"
             ],
             [
              0.8888888888888888,
              "#fdca26"
             ],
             [
              1,
              "#f0f921"
             ]
            ],
            "type": "heatmapgl"
           }
          ],
          "histogram": [
           {
            "marker": {
             "pattern": {
              "fillmode": "overlay",
              "size": 10,
              "solidity": 0.2
             }
            },
            "type": "histogram"
           }
          ],
          "histogram2d": [
           {
            "colorbar": {
             "outlinewidth": 0,
             "ticks": ""
            },
            "colorscale": [
             [
              0,
              "#0d0887"
             ],
             [
              0.1111111111111111,
              "#46039f"
             ],
             [
              0.2222222222222222,
              "#7201a8"
             ],
             [
              0.3333333333333333,
              "#9c179e"
             ],
             [
              0.4444444444444444,
              "#bd3786"
             ],
             [
              0.5555555555555556,
              "#d8576b"
             ],
             [
              0.6666666666666666,
              "#ed7953"
             ],
             [
              0.7777777777777778,
              "#fb9f3a"
             ],
             [
              0.8888888888888888,
              "#fdca26"
             ],
             [
              1,
              "#f0f921"
             ]
            ],
            "type": "histogram2d"
           }
          ],
          "histogram2dcontour": [
           {
            "colorbar": {
             "outlinewidth": 0,
             "ticks": ""
            },
            "colorscale": [
             [
              0,
              "#0d0887"
             ],
             [
              0.1111111111111111,
              "#46039f"
             ],
             [
              0.2222222222222222,
              "#7201a8"
             ],
             [
              0.3333333333333333,
              "#9c179e"
             ],
             [
              0.4444444444444444,
              "#bd3786"
             ],
             [
              0.5555555555555556,
              "#d8576b"
             ],
             [
              0.6666666666666666,
              "#ed7953"
             ],
             [
              0.7777777777777778,
              "#fb9f3a"
             ],
             [
              0.8888888888888888,
              "#fdca26"
             ],
             [
              1,
              "#f0f921"
             ]
            ],
            "type": "histogram2dcontour"
           }
          ],
          "mesh3d": [
           {
            "colorbar": {
             "outlinewidth": 0,
             "ticks": ""
            },
            "type": "mesh3d"
           }
          ],
          "parcoords": [
           {
            "line": {
             "colorbar": {
              "outlinewidth": 0,
              "ticks": ""
             }
            },
            "type": "parcoords"
           }
          ],
          "pie": [
           {
            "automargin": true,
            "type": "pie"
           }
          ],
          "scatter": [
           {
            "fillpattern": {
             "fillmode": "overlay",
             "size": 10,
             "solidity": 0.2
            },
            "type": "scatter"
           }
          ],
          "scatter3d": [
           {
            "line": {
             "colorbar": {
              "outlinewidth": 0,
              "ticks": ""
             }
            },
            "marker": {
             "colorbar": {
              "outlinewidth": 0,
              "ticks": ""
             }
            },
            "type": "scatter3d"
           }
          ],
          "scattercarpet": [
           {
            "marker": {
             "colorbar": {
              "outlinewidth": 0,
              "ticks": ""
             }
            },
            "type": "scattercarpet"
           }
          ],
          "scattergeo": [
           {
            "marker": {
             "colorbar": {
              "outlinewidth": 0,
              "ticks": ""
             }
            },
            "type": "scattergeo"
           }
          ],
          "scattergl": [
           {
            "marker": {
             "colorbar": {
              "outlinewidth": 0,
              "ticks": ""
             }
            },
            "type": "scattergl"
           }
          ],
          "scattermapbox": [
           {
            "marker": {
             "colorbar": {
              "outlinewidth": 0,
              "ticks": ""
             }
            },
            "type": "scattermapbox"
           }
          ],
          "scatterpolar": [
           {
            "marker": {
             "colorbar": {
              "outlinewidth": 0,
              "ticks": ""
             }
            },
            "type": "scatterpolar"
           }
          ],
          "scatterpolargl": [
           {
            "marker": {
             "colorbar": {
              "outlinewidth": 0,
              "ticks": ""
             }
            },
            "type": "scatterpolargl"
           }
          ],
          "scatterternary": [
           {
            "marker": {
             "colorbar": {
              "outlinewidth": 0,
              "ticks": ""
             }
            },
            "type": "scatterternary"
           }
          ],
          "surface": [
           {
            "colorbar": {
             "outlinewidth": 0,
             "ticks": ""
            },
            "colorscale": [
             [
              0,
              "#0d0887"
             ],
             [
              0.1111111111111111,
              "#46039f"
             ],
             [
              0.2222222222222222,
              "#7201a8"
             ],
             [
              0.3333333333333333,
              "#9c179e"
             ],
             [
              0.4444444444444444,
              "#bd3786"
             ],
             [
              0.5555555555555556,
              "#d8576b"
             ],
             [
              0.6666666666666666,
              "#ed7953"
             ],
             [
              0.7777777777777778,
              "#fb9f3a"
             ],
             [
              0.8888888888888888,
              "#fdca26"
             ],
             [
              1,
              "#f0f921"
             ]
            ],
            "type": "surface"
           }
          ],
          "table": [
           {
            "cells": {
             "fill": {
              "color": "#EBF0F8"
             },
             "line": {
              "color": "white"
             }
            },
            "header": {
             "fill": {
              "color": "#C8D4E3"
             },
             "line": {
              "color": "white"
             }
            },
            "type": "table"
           }
          ]
         },
         "layout": {
          "annotationdefaults": {
           "arrowcolor": "#2a3f5f",
           "arrowhead": 0,
           "arrowwidth": 1
          },
          "autotypenumbers": "strict",
          "coloraxis": {
           "colorbar": {
            "outlinewidth": 0,
            "ticks": ""
           }
          },
          "colorscale": {
           "diverging": [
            [
             0,
             "#8e0152"
            ],
            [
             0.1,
             "#c51b7d"
            ],
            [
             0.2,
             "#de77ae"
            ],
            [
             0.3,
             "#f1b6da"
            ],
            [
             0.4,
             "#fde0ef"
            ],
            [
             0.5,
             "#f7f7f7"
            ],
            [
             0.6,
             "#e6f5d0"
            ],
            [
             0.7,
             "#b8e186"
            ],
            [
             0.8,
             "#7fbc41"
            ],
            [
             0.9,
             "#4d9221"
            ],
            [
             1,
             "#276419"
            ]
           ],
           "sequential": [
            [
             0,
             "#0d0887"
            ],
            [
             0.1111111111111111,
             "#46039f"
            ],
            [
             0.2222222222222222,
             "#7201a8"
            ],
            [
             0.3333333333333333,
             "#9c179e"
            ],
            [
             0.4444444444444444,
             "#bd3786"
            ],
            [
             0.5555555555555556,
             "#d8576b"
            ],
            [
             0.6666666666666666,
             "#ed7953"
            ],
            [
             0.7777777777777778,
             "#fb9f3a"
            ],
            [
             0.8888888888888888,
             "#fdca26"
            ],
            [
             1,
             "#f0f921"
            ]
           ],
           "sequentialminus": [
            [
             0,
             "#0d0887"
            ],
            [
             0.1111111111111111,
             "#46039f"
            ],
            [
             0.2222222222222222,
             "#7201a8"
            ],
            [
             0.3333333333333333,
             "#9c179e"
            ],
            [
             0.4444444444444444,
             "#bd3786"
            ],
            [
             0.5555555555555556,
             "#d8576b"
            ],
            [
             0.6666666666666666,
             "#ed7953"
            ],
            [
             0.7777777777777778,
             "#fb9f3a"
            ],
            [
             0.8888888888888888,
             "#fdca26"
            ],
            [
             1,
             "#f0f921"
            ]
           ]
          },
          "colorway": [
           "#636efa",
           "#EF553B",
           "#00cc96",
           "#ab63fa",
           "#FFA15A",
           "#19d3f3",
           "#FF6692",
           "#B6E880",
           "#FF97FF",
           "#FECB52"
          ],
          "font": {
           "color": "#2a3f5f"
          },
          "geo": {
           "bgcolor": "white",
           "lakecolor": "white",
           "landcolor": "#E5ECF6",
           "showlakes": true,
           "showland": true,
           "subunitcolor": "white"
          },
          "hoverlabel": {
           "align": "left"
          },
          "hovermode": "closest",
          "mapbox": {
           "style": "light"
          },
          "paper_bgcolor": "white",
          "plot_bgcolor": "#E5ECF6",
          "polar": {
           "angularaxis": {
            "gridcolor": "white",
            "linecolor": "white",
            "ticks": ""
           },
           "bgcolor": "#E5ECF6",
           "radialaxis": {
            "gridcolor": "white",
            "linecolor": "white",
            "ticks": ""
           }
          },
          "scene": {
           "xaxis": {
            "backgroundcolor": "#E5ECF6",
            "gridcolor": "white",
            "gridwidth": 2,
            "linecolor": "white",
            "showbackground": true,
            "ticks": "",
            "zerolinecolor": "white"
           },
           "yaxis": {
            "backgroundcolor": "#E5ECF6",
            "gridcolor": "white",
            "gridwidth": 2,
            "linecolor": "white",
            "showbackground": true,
            "ticks": "",
            "zerolinecolor": "white"
           },
           "zaxis": {
            "backgroundcolor": "#E5ECF6",
            "gridcolor": "white",
            "gridwidth": 2,
            "linecolor": "white",
            "showbackground": true,
            "ticks": "",
            "zerolinecolor": "white"
           }
          },
          "shapedefaults": {
           "line": {
            "color": "#2a3f5f"
           }
          },
          "ternary": {
           "aaxis": {
            "gridcolor": "white",
            "linecolor": "white",
            "ticks": ""
           },
           "baxis": {
            "gridcolor": "white",
            "linecolor": "white",
            "ticks": ""
           },
           "bgcolor": "#E5ECF6",
           "caxis": {
            "gridcolor": "white",
            "linecolor": "white",
            "ticks": ""
           }
          },
          "title": {
           "x": 0.05
          },
          "xaxis": {
           "automargin": true,
           "gridcolor": "white",
           "linecolor": "white",
           "ticks": "",
           "title": {
            "standoff": 15
           },
           "zerolinecolor": "white",
           "zerolinewidth": 2
          },
          "yaxis": {
           "automargin": true,
           "gridcolor": "white",
           "linecolor": "white",
           "ticks": "",
           "title": {
            "standoff": 15
           },
           "zerolinecolor": "white",
           "zerolinewidth": 2
          }
         }
        },
        "xaxis": {
         "anchor": "y",
         "domain": [
          0,
          1
         ],
         "title": {
          "text": "Urban%"
         }
        },
        "yaxis": {
         "anchor": "x",
         "domain": [
          0,
          1
         ],
         "title": {
          "text": "SlumInUrban%"
         }
        }
       }
      }
     },
     "metadata": {},
     "output_type": "display_data"
    }
   ],
   "source": [
    "import pandas as pd\n",
    "import numpy as np\n",
    "from sklearn.cluster import KMeans\n",
    "import plotly.express as px \n",
    "\n",
    "fig = px.scatter(urban5, x='Urban%', y='SlumInUrban%', color='Urban%', \n",
    "hover_data=['Country','Urban%','SlumInUrban%'])\n",
    "fig.show()\n"
   ]
  },
  {
   "cell_type": "markdown",
   "metadata": {},
   "source": [
    "Here we see a nicely spread out data points on precentage of people live in slums variable against the urbanization precentage variable. This means each countries has their own unique challenges that results in very variate numbers. Next, lets classify the datapoints."
   ]
  },
  {
   "attachments": {},
   "cell_type": "markdown",
   "metadata": {},
   "source": [
    "# Explain the Results using graphs"
   ]
  },
  {
   "cell_type": "code",
   "execution_count": 382,
   "metadata": {},
   "outputs": [
    {
     "data": {
      "application/vnd.plotly.v1+json": {
       "config": {
        "plotlyServerURL": "https://plot.ly"
       },
       "data": [
        {
         "customdata": [
          [
           "Afghanistan"
          ],
          [
           "Albania"
          ],
          [
           "Algeria"
          ],
          [
           "Angola"
          ],
          [
           "Armenia"
          ],
          [
           "Bangladesh"
          ],
          [
           "Belarus"
          ],
          [
           "Belize"
          ],
          [
           "Benin"
          ],
          [
           "Botswana"
          ],
          [
           "Burkina Faso"
          ],
          [
           "Burundi"
          ],
          [
           "Cambodia"
          ],
          [
           "Cameroon"
          ],
          [
           "Chad"
          ],
          [
           "Colombia"
          ],
          [
           "Congo"
          ],
          [
           "Costa Rica"
          ],
          [
           "Cote d'Ivoire"
          ],
          [
           "Cuba"
          ],
          [
           "Democratic Republic of Congo"
          ],
          [
           "Dominican Republic"
          ],
          [
           "East Timor"
          ],
          [
           "El Salvador"
          ],
          [
           "Eswatini"
          ],
          [
           "Ethiopia"
          ],
          [
           "Fiji"
          ],
          [
           "Gambia"
          ],
          [
           "Georgia"
          ],
          [
           "Ghana"
          ],
          [
           "Guatemala"
          ],
          [
           "Guinea"
          ],
          [
           "Guinea-Bissau"
          ],
          [
           "Guyana"
          ],
          [
           "Haiti"
          ],
          [
           "India"
          ],
          [
           "Indonesia"
          ],
          [
           "Iraq"
          ],
          [
           "Ireland"
          ],
          [
           "Jordan"
          ],
          [
           "Kazakhstan"
          ],
          [
           "Kenya"
          ],
          [
           "Kyrgyzstan"
          ],
          [
           "Laos"
          ],
          [
           "Lesotho"
          ],
          [
           "Liberia"
          ],
          [
           "Madagascar"
          ],
          [
           "Malawi"
          ],
          [
           "Maldives"
          ],
          [
           "Mali"
          ],
          [
           "Mauritania"
          ],
          [
           "Mexico"
          ],
          [
           "Mongolia"
          ],
          [
           "Montenegro"
          ],
          [
           "Morocco"
          ],
          [
           "Mozambique"
          ],
          [
           "Myanmar"
          ],
          [
           "Nepal"
          ],
          [
           "Nigeria"
          ],
          [
           "Pakistan"
          ],
          [
           "Paraguay"
          ],
          [
           "Philippines"
          ],
          [
           "Rwanda"
          ],
          [
           "Sao Tome and Principe"
          ],
          [
           "Senegal"
          ],
          [
           "Sierra Leone"
          ],
          [
           "South Africa"
          ],
          [
           "Sudan"
          ],
          [
           "Suriname"
          ],
          [
           "Tajikistan"
          ],
          [
           "Tanzania"
          ],
          [
           "Thailand"
          ],
          [
           "Togo"
          ],
          [
           "Tunisia"
          ],
          [
           "Turkmenistan"
          ],
          [
           "Uganda"
          ],
          [
           "Vietnam"
          ],
          [
           "West Bank and Gaza"
          ],
          [
           "Zambia"
          ],
          [
           "Zimbabwe"
          ]
         ],
         "hovertemplate": "Urban%=%{x}<br>SlumInUrban%=%{y}<br>Country=%{customdata[0]}<br>color=%{marker.color}<extra></extra>",
         "legendgroup": "",
         "marker": {
          "color": [
           0,
           1,
           1,
           3,
           1,
           0,
           1,
           2,
           0,
           3,
           2,
           2,
           2,
           3,
           0,
           1,
           3,
           1,
           3,
           1,
           0,
           1,
           2,
           1,
           2,
           0,
           1,
           3,
           1,
           3,
           3,
           0,
           0,
           2,
           3,
           0,
           1,
           3,
           1,
           1,
           1,
           0,
           2,
           2,
           2,
           0,
           0,
           0,
           2,
           3,
           3,
           1,
           1,
           1,
           1,
           0,
           0,
           2,
           3,
           0,
           1,
           3,
           2,
           3,
           3,
           0,
           1,
           0,
           1,
           2,
           2,
           1,
           3,
           1,
           1,
           0,
           2,
           1,
           3,
           2
          ],
          "coloraxis": "coloraxis",
          "symbol": "circle"
         },
         "mode": "markers",
         "name": "",
         "orientation": "v",
         "showlegend": false,
         "type": "scatter",
         "x": [
          26.03,
          62.11,
          73.73,
          66.83,
          63.31,
          38.18,
          79.48,
          46.02,
          48.41,
          70.88,
          30.61,
          13.71,
          24.23,
          57.56,
          23.52,
          81.43,
          67.83,
          80.77,
          51.71,
          77.19,
          45.64,
          82.54,
          31.32,
          73.44,
          24.17,
          21.69,
          57.25,
          62.58,
          59.45,
          57.35,
          51.84,
          36.87,
          44.2,
          26.79,
          57.09,
          34.93,
          56.64,
          70.89,
          63.65,
          91.42,
          57.67,
          28,
          36.86,
          36.29,
          29.03,
          52.09,
          38.53,
          17.43,
          40.67,
          43.91,
          55.33,
          80.73,
          68.66,
          67.49,
          63.53,
          37.07,
          31.14,
          20.58,
          51.96,
          37.17,
          62.18,
          47.41,
          17.43,
          74.35,
          48.12,
          42.92,
          67.35,
          35.25,
          66.15,
          27.51,
          35.23,
          51.43,
          42.8,
          69.57,
          52.52,
          24.95,
          37.34,
          76.72,
          44.63,
          32.24
         ],
         "xaxis": "x",
         "y": [
          73.3,
          2.8,
          13.27,
          62.6,
          8.39,
          51.87,
          2.28,
          15.73,
          67.93,
          39.6,
          26.55,
          36.8,
          39.7,
          32.67,
          82,
          9.7,
          44.18,
          3.55,
          53.21,
          10.54,
          78.36,
          11.25,
          33.9,
          16.5,
          10.81,
          64.31,
          9.4,
          38.89,
          7.08,
          33.49,
          37.6,
          49.01,
          60.81,
          12.14,
          48.9,
          49.01,
          19.41,
          49.34,
          8.5,
          16.72,
          0.79,
          50.81,
          2.44,
          21.8,
          25.55,
          63.88,
          67.42,
          49.78,
          34.85,
          41.93,
          56,
          17.6,
          17.88,
          8.8,
          10.85,
          54.96,
          58.28,
          40.28,
          48.98,
          55.97,
          15.1,
          36.62,
          38.35,
          52.6,
          31.6,
          50.65,
          24.2,
          73.7,
          15.8,
          17.06,
          40.88,
          6.79,
          38.5,
          7.64,
          8.51,
          54.01,
          5.77,
          19.5,
          48.26,
          21.57
         ],
         "yaxis": "y"
        }
       ],
       "layout": {
        "coloraxis": {
         "colorbar": {
          "title": {
           "text": "color"
          }
         },
         "colorscale": [
          [
           0,
           "#0d0887"
          ],
          [
           0.1111111111111111,
           "#46039f"
          ],
          [
           0.2222222222222222,
           "#7201a8"
          ],
          [
           0.3333333333333333,
           "#9c179e"
          ],
          [
           0.4444444444444444,
           "#bd3786"
          ],
          [
           0.5555555555555556,
           "#d8576b"
          ],
          [
           0.6666666666666666,
           "#ed7953"
          ],
          [
           0.7777777777777778,
           "#fb9f3a"
          ],
          [
           0.8888888888888888,
           "#fdca26"
          ],
          [
           1,
           "#f0f921"
          ]
         ]
        },
        "legend": {
         "tracegroupgap": 0
        },
        "margin": {
         "t": 60
        },
        "template": {
         "data": {
          "bar": [
           {
            "error_x": {
             "color": "#2a3f5f"
            },
            "error_y": {
             "color": "#2a3f5f"
            },
            "marker": {
             "line": {
              "color": "#E5ECF6",
              "width": 0.5
             },
             "pattern": {
              "fillmode": "overlay",
              "size": 10,
              "solidity": 0.2
             }
            },
            "type": "bar"
           }
          ],
          "barpolar": [
           {
            "marker": {
             "line": {
              "color": "#E5ECF6",
              "width": 0.5
             },
             "pattern": {
              "fillmode": "overlay",
              "size": 10,
              "solidity": 0.2
             }
            },
            "type": "barpolar"
           }
          ],
          "carpet": [
           {
            "aaxis": {
             "endlinecolor": "#2a3f5f",
             "gridcolor": "white",
             "linecolor": "white",
             "minorgridcolor": "white",
             "startlinecolor": "#2a3f5f"
            },
            "baxis": {
             "endlinecolor": "#2a3f5f",
             "gridcolor": "white",
             "linecolor": "white",
             "minorgridcolor": "white",
             "startlinecolor": "#2a3f5f"
            },
            "type": "carpet"
           }
          ],
          "choropleth": [
           {
            "colorbar": {
             "outlinewidth": 0,
             "ticks": ""
            },
            "type": "choropleth"
           }
          ],
          "contour": [
           {
            "colorbar": {
             "outlinewidth": 0,
             "ticks": ""
            },
            "colorscale": [
             [
              0,
              "#0d0887"
             ],
             [
              0.1111111111111111,
              "#46039f"
             ],
             [
              0.2222222222222222,
              "#7201a8"
             ],
             [
              0.3333333333333333,
              "#9c179e"
             ],
             [
              0.4444444444444444,
              "#bd3786"
             ],
             [
              0.5555555555555556,
              "#d8576b"
             ],
             [
              0.6666666666666666,
              "#ed7953"
             ],
             [
              0.7777777777777778,
              "#fb9f3a"
             ],
             [
              0.8888888888888888,
              "#fdca26"
             ],
             [
              1,
              "#f0f921"
             ]
            ],
            "type": "contour"
           }
          ],
          "contourcarpet": [
           {
            "colorbar": {
             "outlinewidth": 0,
             "ticks": ""
            },
            "type": "contourcarpet"
           }
          ],
          "heatmap": [
           {
            "colorbar": {
             "outlinewidth": 0,
             "ticks": ""
            },
            "colorscale": [
             [
              0,
              "#0d0887"
             ],
             [
              0.1111111111111111,
              "#46039f"
             ],
             [
              0.2222222222222222,
              "#7201a8"
             ],
             [
              0.3333333333333333,
              "#9c179e"
             ],
             [
              0.4444444444444444,
              "#bd3786"
             ],
             [
              0.5555555555555556,
              "#d8576b"
             ],
             [
              0.6666666666666666,
              "#ed7953"
             ],
             [
              0.7777777777777778,
              "#fb9f3a"
             ],
             [
              0.8888888888888888,
              "#fdca26"
             ],
             [
              1,
              "#f0f921"
             ]
            ],
            "type": "heatmap"
           }
          ],
          "heatmapgl": [
           {
            "colorbar": {
             "outlinewidth": 0,
             "ticks": ""
            },
            "colorscale": [
             [
              0,
              "#0d0887"
             ],
             [
              0.1111111111111111,
              "#46039f"
             ],
             [
              0.2222222222222222,
              "#7201a8"
             ],
             [
              0.3333333333333333,
              "#9c179e"
             ],
             [
              0.4444444444444444,
              "#bd3786"
             ],
             [
              0.5555555555555556,
              "#d8576b"
             ],
             [
              0.6666666666666666,
              "#ed7953"
             ],
             [
              0.7777777777777778,
              "#fb9f3a"
             ],
             [
              0.8888888888888888,
              "#fdca26"
             ],
             [
              1,
              "#f0f921"
             ]
            ],
            "type": "heatmapgl"
           }
          ],
          "histogram": [
           {
            "marker": {
             "pattern": {
              "fillmode": "overlay",
              "size": 10,
              "solidity": 0.2
             }
            },
            "type": "histogram"
           }
          ],
          "histogram2d": [
           {
            "colorbar": {
             "outlinewidth": 0,
             "ticks": ""
            },
            "colorscale": [
             [
              0,
              "#0d0887"
             ],
             [
              0.1111111111111111,
              "#46039f"
             ],
             [
              0.2222222222222222,
              "#7201a8"
             ],
             [
              0.3333333333333333,
              "#9c179e"
             ],
             [
              0.4444444444444444,
              "#bd3786"
             ],
             [
              0.5555555555555556,
              "#d8576b"
             ],
             [
              0.6666666666666666,
              "#ed7953"
             ],
             [
              0.7777777777777778,
              "#fb9f3a"
             ],
             [
              0.8888888888888888,
              "#fdca26"
             ],
             [
              1,
              "#f0f921"
             ]
            ],
            "type": "histogram2d"
           }
          ],
          "histogram2dcontour": [
           {
            "colorbar": {
             "outlinewidth": 0,
             "ticks": ""
            },
            "colorscale": [
             [
              0,
              "#0d0887"
             ],
             [
              0.1111111111111111,
              "#46039f"
             ],
             [
              0.2222222222222222,
              "#7201a8"
             ],
             [
              0.3333333333333333,
              "#9c179e"
             ],
             [
              0.4444444444444444,
              "#bd3786"
             ],
             [
              0.5555555555555556,
              "#d8576b"
             ],
             [
              0.6666666666666666,
              "#ed7953"
             ],
             [
              0.7777777777777778,
              "#fb9f3a"
             ],
             [
              0.8888888888888888,
              "#fdca26"
             ],
             [
              1,
              "#f0f921"
             ]
            ],
            "type": "histogram2dcontour"
           }
          ],
          "mesh3d": [
           {
            "colorbar": {
             "outlinewidth": 0,
             "ticks": ""
            },
            "type": "mesh3d"
           }
          ],
          "parcoords": [
           {
            "line": {
             "colorbar": {
              "outlinewidth": 0,
              "ticks": ""
             }
            },
            "type": "parcoords"
           }
          ],
          "pie": [
           {
            "automargin": true,
            "type": "pie"
           }
          ],
          "scatter": [
           {
            "fillpattern": {
             "fillmode": "overlay",
             "size": 10,
             "solidity": 0.2
            },
            "type": "scatter"
           }
          ],
          "scatter3d": [
           {
            "line": {
             "colorbar": {
              "outlinewidth": 0,
              "ticks": ""
             }
            },
            "marker": {
             "colorbar": {
              "outlinewidth": 0,
              "ticks": ""
             }
            },
            "type": "scatter3d"
           }
          ],
          "scattercarpet": [
           {
            "marker": {
             "colorbar": {
              "outlinewidth": 0,
              "ticks": ""
             }
            },
            "type": "scattercarpet"
           }
          ],
          "scattergeo": [
           {
            "marker": {
             "colorbar": {
              "outlinewidth": 0,
              "ticks": ""
             }
            },
            "type": "scattergeo"
           }
          ],
          "scattergl": [
           {
            "marker": {
             "colorbar": {
              "outlinewidth": 0,
              "ticks": ""
             }
            },
            "type": "scattergl"
           }
          ],
          "scattermapbox": [
           {
            "marker": {
             "colorbar": {
              "outlinewidth": 0,
              "ticks": ""
             }
            },
            "type": "scattermapbox"
           }
          ],
          "scatterpolar": [
           {
            "marker": {
             "colorbar": {
              "outlinewidth": 0,
              "ticks": ""
             }
            },
            "type": "scatterpolar"
           }
          ],
          "scatterpolargl": [
           {
            "marker": {
             "colorbar": {
              "outlinewidth": 0,
              "ticks": ""
             }
            },
            "type": "scatterpolargl"
           }
          ],
          "scatterternary": [
           {
            "marker": {
             "colorbar": {
              "outlinewidth": 0,
              "ticks": ""
             }
            },
            "type": "scatterternary"
           }
          ],
          "surface": [
           {
            "colorbar": {
             "outlinewidth": 0,
             "ticks": ""
            },
            "colorscale": [
             [
              0,
              "#0d0887"
             ],
             [
              0.1111111111111111,
              "#46039f"
             ],
             [
              0.2222222222222222,
              "#7201a8"
             ],
             [
              0.3333333333333333,
              "#9c179e"
             ],
             [
              0.4444444444444444,
              "#bd3786"
             ],
             [
              0.5555555555555556,
              "#d8576b"
             ],
             [
              0.6666666666666666,
              "#ed7953"
             ],
             [
              0.7777777777777778,
              "#fb9f3a"
             ],
             [
              0.8888888888888888,
              "#fdca26"
             ],
             [
              1,
              "#f0f921"
             ]
            ],
            "type": "surface"
           }
          ],
          "table": [
           {
            "cells": {
             "fill": {
              "color": "#EBF0F8"
             },
             "line": {
              "color": "white"
             }
            },
            "header": {
             "fill": {
              "color": "#C8D4E3"
             },
             "line": {
              "color": "white"
             }
            },
            "type": "table"
           }
          ]
         },
         "layout": {
          "annotationdefaults": {
           "arrowcolor": "#2a3f5f",
           "arrowhead": 0,
           "arrowwidth": 1
          },
          "autotypenumbers": "strict",
          "coloraxis": {
           "colorbar": {
            "outlinewidth": 0,
            "ticks": ""
           }
          },
          "colorscale": {
           "diverging": [
            [
             0,
             "#8e0152"
            ],
            [
             0.1,
             "#c51b7d"
            ],
            [
             0.2,
             "#de77ae"
            ],
            [
             0.3,
             "#f1b6da"
            ],
            [
             0.4,
             "#fde0ef"
            ],
            [
             0.5,
             "#f7f7f7"
            ],
            [
             0.6,
             "#e6f5d0"
            ],
            [
             0.7,
             "#b8e186"
            ],
            [
             0.8,
             "#7fbc41"
            ],
            [
             0.9,
             "#4d9221"
            ],
            [
             1,
             "#276419"
            ]
           ],
           "sequential": [
            [
             0,
             "#0d0887"
            ],
            [
             0.1111111111111111,
             "#46039f"
            ],
            [
             0.2222222222222222,
             "#7201a8"
            ],
            [
             0.3333333333333333,
             "#9c179e"
            ],
            [
             0.4444444444444444,
             "#bd3786"
            ],
            [
             0.5555555555555556,
             "#d8576b"
            ],
            [
             0.6666666666666666,
             "#ed7953"
            ],
            [
             0.7777777777777778,
             "#fb9f3a"
            ],
            [
             0.8888888888888888,
             "#fdca26"
            ],
            [
             1,
             "#f0f921"
            ]
           ],
           "sequentialminus": [
            [
             0,
             "#0d0887"
            ],
            [
             0.1111111111111111,
             "#46039f"
            ],
            [
             0.2222222222222222,
             "#7201a8"
            ],
            [
             0.3333333333333333,
             "#9c179e"
            ],
            [
             0.4444444444444444,
             "#bd3786"
            ],
            [
             0.5555555555555556,
             "#d8576b"
            ],
            [
             0.6666666666666666,
             "#ed7953"
            ],
            [
             0.7777777777777778,
             "#fb9f3a"
            ],
            [
             0.8888888888888888,
             "#fdca26"
            ],
            [
             1,
             "#f0f921"
            ]
           ]
          },
          "colorway": [
           "#636efa",
           "#EF553B",
           "#00cc96",
           "#ab63fa",
           "#FFA15A",
           "#19d3f3",
           "#FF6692",
           "#B6E880",
           "#FF97FF",
           "#FECB52"
          ],
          "font": {
           "color": "#2a3f5f"
          },
          "geo": {
           "bgcolor": "white",
           "lakecolor": "white",
           "landcolor": "#E5ECF6",
           "showlakes": true,
           "showland": true,
           "subunitcolor": "white"
          },
          "hoverlabel": {
           "align": "left"
          },
          "hovermode": "closest",
          "mapbox": {
           "style": "light"
          },
          "paper_bgcolor": "white",
          "plot_bgcolor": "#E5ECF6",
          "polar": {
           "angularaxis": {
            "gridcolor": "white",
            "linecolor": "white",
            "ticks": ""
           },
           "bgcolor": "#E5ECF6",
           "radialaxis": {
            "gridcolor": "white",
            "linecolor": "white",
            "ticks": ""
           }
          },
          "scene": {
           "xaxis": {
            "backgroundcolor": "#E5ECF6",
            "gridcolor": "white",
            "gridwidth": 2,
            "linecolor": "white",
            "showbackground": true,
            "ticks": "",
            "zerolinecolor": "white"
           },
           "yaxis": {
            "backgroundcolor": "#E5ECF6",
            "gridcolor": "white",
            "gridwidth": 2,
            "linecolor": "white",
            "showbackground": true,
            "ticks": "",
            "zerolinecolor": "white"
           },
           "zaxis": {
            "backgroundcolor": "#E5ECF6",
            "gridcolor": "white",
            "gridwidth": 2,
            "linecolor": "white",
            "showbackground": true,
            "ticks": "",
            "zerolinecolor": "white"
           }
          },
          "shapedefaults": {
           "line": {
            "color": "#2a3f5f"
           }
          },
          "ternary": {
           "aaxis": {
            "gridcolor": "white",
            "linecolor": "white",
            "ticks": ""
           },
           "baxis": {
            "gridcolor": "white",
            "linecolor": "white",
            "ticks": ""
           },
           "bgcolor": "#E5ECF6",
           "caxis": {
            "gridcolor": "white",
            "linecolor": "white",
            "ticks": ""
           }
          },
          "title": {
           "x": 0.05
          },
          "xaxis": {
           "automargin": true,
           "gridcolor": "white",
           "linecolor": "white",
           "ticks": "",
           "title": {
            "standoff": 15
           },
           "zerolinecolor": "white",
           "zerolinewidth": 2
          },
          "yaxis": {
           "automargin": true,
           "gridcolor": "white",
           "linecolor": "white",
           "ticks": "",
           "title": {
            "standoff": 15
           },
           "zerolinecolor": "white",
           "zerolinewidth": 2
          }
         }
        },
        "xaxis": {
         "anchor": "y",
         "domain": [
          0,
          1
         ],
         "title": {
          "text": "Urban%"
         }
        },
        "yaxis": {
         "anchor": "x",
         "domain": [
          0,
          1
         ],
         "title": {
          "text": "SlumInUrban%"
         }
        }
       }
      }
     },
     "metadata": {},
     "output_type": "display_data"
    }
   ],
   "source": [
    "data = urban5.copy()\n",
    "\n",
    "#change data to list of tuples\n",
    "data = list(zip(data['Urban%'], data['SlumInUrban%']))\n",
    "\n",
    "# fit kmeans model\n",
    "kmeans = KMeans(n_init='auto' ,n_clusters=4)\n",
    "kmeans.fit(data)\n",
    "\n",
    "# make scatter plot using plotly\n",
    "fig = px.scatter(urban5, x='Urban%', y='SlumInUrban%', hover_data=['Country','Urban%','SlumInUrban%' ], color=kmeans.labels_)\n",
    "fig.show()"
   ]
  },
  {
   "cell_type": "markdown",
   "metadata": {},
   "source": [
    "The list of countries with their urbanization numbers are classified into 4 categories\n",
    "- high urban, low slum, bottom right corner\n",
    "- low urban, low slum, bottom left corner\n",
    "- high urban, high slum, center of screen\n",
    "- low urban, high slum, top left corner"
   ]
  },
  {
   "attachments": {},
   "cell_type": "markdown",
   "metadata": {},
   "source": [
    "# Remarks and Suggestions\n",
    "\n",
    "## Data Availability Limitation\n",
    "The number of countries shown in the graph is very low because of the limited data in population living in slums. Notable countries that are missing from the dataset includes: china, america, canada, italy, france, spain, germany, UK. As a result, the countries listed here are mostly developing/third world countries. The missing population living in slums data on big first world countries is very unfortunate. It could give us a great insight about how slums form in relatively advanced nations.\n",
    "\n",
    "## Ambiguity of Definition\n",
    "Different countries have diverse criteria for defining an 'urban area', which includes variations in the metrics employed and the threshold population size. The minimum population threshold required for a settlement to be considered an 'urban area' depends on the data sources and can differ significantly from one country to another. For instance, Sweden and Denmark have a low threshold of merely 200 inhabitants, while Japan sets a considerably higher threshold of 50,000 inhabitants. It's worth noting that out of the total number of countries, 133 countries do not apply a minimum settlement population threshold in their definition of an 'urban area.' Instead, they may utilize alternative criteria such as population density, infrastructure development, pre-assigned city populations, or sometimes lack a distinct and explicit definition altogether. This variation in approaches further emphasizes the lack of a universal standard for categorizing urban areas across different nations.  \n",
    "\n",
    "Its the same case for the population living in urban slums dataset. However, UN-HABITAT offered a definition which states that  \n",
    "`a slum household as a group of individuals living under the same roof in an urban area who lack one or more of the following :`\n",
    "1. Durable housing of a permanent nature that protects against extreme climate conditions.\n",
    "\n",
    "2. Sufficient living space which means no more than three people sharing the same room.\n",
    "\n",
    "3. Easy access to safe water in sufficient amounts at an affordable price.\n",
    "\n",
    "4. Access to adequate sanitation in the form of a private or public toilet shared by a reasonable number of people.\n",
    "\n",
    "Sometimes a fifth criterion is included:\n",
    "\n",
    "5. Security of tenure that prevents forced evictions.\n",
    "\n",
    "An important point to consider is that while a 'slum household' is assigned a single category, the actual conditions and level of deprivation can vary considerably among different slum households. Some households may lack only one of the mentioned criteria, while others might lack several of them. This variability highlights the complexity and diversity of living conditions within slums, and a broad categorization may not fully capture the range of challenges and disparities experienced by individuals and families in these areas."
   ]
  },
  {
   "attachments": {},
   "cell_type": "markdown",
   "metadata": {},
   "source": [
    "# Slums, The Malice of Modern World Urbanization\n",
    "\n",
    "## Introduction\n",
    "In the pursuit of progress and development, the world has witnessed an unprecedented wave of urbanization. With cities evolving into hubs of economic and social activities, they magnetically draw people seeking better opportunities and improved living standards. However, this rapid urban growth has also given rise to a dark underbelly - slums. These pockets of poverty and deprivation stand as stark reminders of the challenges that accompany modern world urbanization. In this article, we delve into the malice of slums, exploring their causes, impact, and potential solutions.\n",
    "\n",
    "## Urbanization and the Proliferation of Slums\n",
    "Urbanization, the process of population shift from rural to urban areas, lies at the heart of the slum phenomenon. As cities grow exponentially, they attract migrants seeking better economic prospects, education, and improved living standards. While urbanization can be a powerful driver of economic growth and cultural exchange, the pace and scale of this phenomenon often outstrip the capacity of cities to accommodate their growing populations adequately.\n",
    "\n",
    "Rapid urbanization presents a double-edged sword for governments and urban planners. On one hand, it offers the potential for increased economic opportunities and improved infrastructure, while on the other, it gives rise to a surge in informal settlements – the slums. The pressing need for affordable housing, coupled with inadequate urban planning and insufficient resources, forces many new migrants and low-income residents to settle in substandard living conditions.\n",
    "\n",
    "Slums, in essence, are the manifestation of a city's struggle to cope with the challenges posed by urbanization. Without adequate provisions for affordable housing and social amenities, slums emerge as a result of a demand-supply mismatch. As urbanization continues to reshape our world, addressing the issue of slums becomes an urgent imperative.\n",
    "\n",
    "## Social and Economic Implications:\n",
    "The existence of slums poses significant social and economic challenges for societies. Concentrated poverty and overcrowding foster crime, social unrest, and increased vulnerability to exploitation. Slum dwellers often find themselves trapped in a cycle of informality, unable to access formal employment or credit, which perpetuates economic marginalization. Furthermore, slums strain urban infrastructure and services, hampering overall city development and exacerbating inequality.\n",
    "\n",
    "## Classification of Countries's Urbanization Data\n",
    "Based on our findings, we classified countries in our dataset into 4 categories: \n",
    "1. high urban, low slum, bottom right corner\n",
    "2. low urban, low slum, bottom left corner\n",
    "3. high urban, high slum, center of screen\n",
    "4. low urban, high slum, top left corner\n",
    "\n",
    "We'll look into a country in each category and analyze their methods on handling urbanization and slums.\n",
    "\n",
    "### High Urban, Low Slum - Ireland\n",
    "\n",
    "Ireland is a sub-tropical island country located in the north atlantic ocean, north western europe. The geography of ireland is made of low mountains with vast plains covering the landscape. Several rivers extending inland gives Ireland great advantage in agriculture.\n",
    "\n",
    "Ireland's culture is a vibrant tapestry steeped in history and folklore. Traditional music, dance, and literature hold a significant place, with renowned writers like James Joyce and W.B. Yeats contributing to its literary heritage. Festivals like St. Patrick's Day celebrate the country's spirit, and the Gaelic language adds to its identity. With a strong religious heritage and modern expressions of art and creativity, Ireland's culture reflects its deep-rooted traditions and dynamic present.\n",
    "\n",
    "Despite having very strong agriculture background thats still running in the present, Ireland manages to reach an impressive number of urbanization and low number of population living in slums. Ireland has a diverse and robust economy, with key sectors including pharmaceuticals, technology, finance, and agriculture. Dublin, Ireland's capital is home to one of the biggest company in earth: Google. Ireland also attracted several other high-profile companies including Facebook, Apple, Pfizer, J&J, Citibank, and JP-Morgan-Chase. These companies gave strong incentive to urbanize to big cities like Dublin, Belfast, and Cork.\n",
    "\n",
    "Ireland has handled urbanization through sustainable urban planning, regional development, and affordable housing initiatives. Investment in infrastructure and utilities supports urban growth, while urban regeneration revitalizes older areas. Emphasizing community engagement, the country preserves cultural heritage and focuses on balanced development to avoid over-reliance on major cities. Ireland continues to adapt strategies to ensure a sustainable and well-managed urbanization process, promoting a resilient and inclusive future.\n",
    "\n",
    "### Low Urban, Low Slum - Vietnam\n",
    "\n",
    "Vietnam, officially known as the Socialist Republic of Vietnam, is a Southeast Asian country located on the eastern coast of the Indochinese Peninsula. It shares borders with China to the north, Laos to the northwest, and Cambodia to the southwest. With a population of over 95 million people, Vietnam is the 15th most populous country in the world. Its capital city is Hanoi, while Ho Chi Minh City is the largest city and a vital economic hub. \n",
    "\n",
    "Vietnam's history is characterized by a rich tapestry of ancient civilizations, colonial influence, and wars, including the Vietnam War, which ended in 1975. Today, Vietnam is a rapidly developing nation with a dynamic economy driven by agriculture, manufacturing, and services sectors. The country's natural beauty, cultural diversity, and delicious cuisine make it an increasingly popular destination for tourism. Vietnam is known for its resilient people, strong sense of community, and ongoing efforts to balance traditional values with modernization and progress.\n",
    "\n",
    "Vietnam, an agriculturally focused country, stands as one of the largest exporters of products like rice, coffee, seafood, and fruits. Consequently, a significant portion of its population resides in rural areas, engaged in farming and cultivation. This agricultural emphasis has contributed to a relatively low percentage of just 5.7% of the population living in slums, as the rural lifestyle holds substantial value compared to anything else. Hence, there is limited pressure or incentive for rural residents to migrate to urban areas.\n",
    "\n",
    "### High Urban, High Slum, - Philippines\n",
    "\n",
    "The Philippines, officially known as the Republic of the Philippines, is an archipelagic country located in Southeast Asia. It comprises over 7,600 islands, with Luzon, Visayas, and Mindanao being the three main island groups. The capital city is Manila. With a population of approximately 110 million people, the Philippines is the 13th most populous country in the world. \n",
    "\n",
    "The nation's history is marked by a blend of indigenous, Spanish, American, and Asian influences. Filipino culture is known for its warm hospitality, rich traditions, and vibrant festivals. The economy of the Philippines is diverse, with sectors such as agriculture, manufacturing, services, and tourism contributing to its growth. The country is famous for its stunning natural beauty, including pristine beaches, lush landscapes, and active volcanoes. However, the Philippines faces challenges related to poverty, inequality, and natural disasters. Despite these hurdles, the Filipino people exhibit resilience, strong community ties, and a spirit of optimism for the future.\n",
    "\n",
    "Much like Vietnam, the Philippines was primarily an agricultural country, but it successfully attracted foreign investors to engage in business. The nation's ample unoccupied lands, large population, and comparatively lower education and skills level created an ideal environment for offshoring manufacturing plants, particularly in garments, footwear, electronics, and automobiles. The influx of foreign investment into urban areas became a golden opportunity for rural residents seeking better pay, housing, and overall quality of life, prompting significant rural-to-urban migration. \n",
    "\n",
    "However, despite this urbanization boom, challenges arise due to insufficient government action, intense competition, and limited job opportunities, leaving many newly-urbanized individuals struggling to secure stable employment. Fearful of returning to their rural homes seen as a failure, they opt to create makeshift settlements on the city outskirts, adapting to their circumstances and making the best of life.\n",
    "\n",
    "### Low Urban, High Slum, - Afghanistan\n",
    "\n",
    "Afghanistan is a landlocked country located in Central Asia, sharing borders with Pakistan, Iran, Turkmenistan, Uzbekistan, Tajikistan, and China. With a diverse landscape, it encompasses mountains, deserts, and fertile valleys. Kabul serves as its capital and largest city. Afghanistan's history is marked by a mix of ancient civilizations and a complex geopolitical past. Afghanistan's geography is diverse, characterized by mountains, plateaus, deserts, and fertile valleys. The Hindu Kush mountain range runs through the country, forming a rugged and challenging terrain. The country experiences a mix of continental and arid climates, with hot summers and cold winters in most regions.\n",
    "\n",
    "Afghanistan's populace is predominantly Muslim, with Islam being the dominant and official religion of the country. The vast majority of Afghans are followers of Sunni Islam, specifically belonging to the Hanafi school of thought, which is one of the four major Sunni schools of jurisprudence. Sunni Islam in Afghanistan is influenced by traditional practices and customs that have evolved over centuries. There are also small communities of Shia Muslims and other religious minorities in the country. Religion holds a central place in Afghan society, influencing various aspects of daily life, cultural norms, and social interactions.\n",
    "\n",
    "The main cause low number of urbanization and high population living in slum is armed conflict.The armed conflict in Afghanistan is a complex and protracted conflict that has spanned several decades. It originated in the late 1970s when the Soviet Union invaded Afghanistan, leading to a decade-long war known as the Soviet-Afghan War. Following the Soviet withdrawal in 1989, internal conflicts between various Afghan factions ensued, culminating in the rise of the Taliban, an extremist Islamist group, which took control of most of the country in the mid-1990s. The U.S.-led invasion of Afghanistan in 2001 aimed to dismantle terrorist networks, remove the Taliban from power, and promote stability. Despite efforts to establish a democratic government, Afghanistan has faced ongoing violence and insurgency from the Taliban and other militant groups.\n",
    "\n",
    "Those who live in rural areas want to stay in rural areas to avoid conflicts that are happening in big cities. Meanwhile those who lives in the city often find their houses get destroyed due to gunfire and bombing, so they resort to living in makeshift houses in safer areas.\n",
    "\n",
    "## Conclusion:\n",
    "\n",
    "The phenomenon of slums amidst rapid urbanization serves as a poignant reminder of the challenges faced by cities in the 21st century. Urbanization presents immense opportunities for progress, innovation, and cultural exchange. However, its hasty and unchecked pace can lead to the growth of informal settlements, where millions endure dire living conditions.\n",
    "\n",
    "To address the malice of slums, a concerted effort is required from governments, urban planners, and society at large. Sustainable urban planning, affordable housing initiatives, and empowering slum dwellers are crucial steps towards fostering inclusive and vibrant cities. By recognizing the intricate relationship between urbanization and slums and adopting proactive measures, we can aspire to build cities that are beacons of hope, prosperity, and compassion for all their inhabitants. Only then can we truly embrace the transformative potential of urbanization while leaving no one behind.\n"
   ]
  },
  {
   "attachments": {},
   "cell_type": "markdown",
   "metadata": {},
   "source": [
    "# Sources\n",
    "\n",
    "https://ourworldindata.org/urbanization#definitions-measurement\n",
    "https://www.geeksforgeeks.org/ml-classification-vs-clustering/\n",
    "https://scikit-learn.org/stable/modules/generated/sklearn.cluster.KMeans.html\n",
    "https://www.w3schools.com/python/python_ml_k-means.asp"
   ]
  }
 ],
 "metadata": {
  "kernelspec": {
   "display_name": "Python 3",
   "language": "python",
   "name": "python3"
  },
  "language_info": {
   "codemirror_mode": {
    "name": "ipython",
    "version": 3
   },
   "file_extension": ".py",
   "mimetype": "text/x-python",
   "name": "python",
   "nbconvert_exporter": "python",
   "pygments_lexer": "ipython3",
   "version": "3.10.11"
  },
  "orig_nbformat": 4
 },
 "nbformat": 4,
 "nbformat_minor": 2
}
