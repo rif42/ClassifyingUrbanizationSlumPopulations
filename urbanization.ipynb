{
 "cells": [
  {
   "attachments": {},
   "cell_type": "markdown",
   "metadata": {},
   "source": [
    "1. datasets chosen : https://ourworldindata.org/urbanization\n",
    "2. data preprocessing : \n",
    "3. why do i chose the data : \n",
    "    - the data collected spans from 1960 – 2021\n",
    "    - part of the UNICEF-backed global World Development Indicator\n",
    "    - high quality, accurate, clearly defined, and well-tested data\n",
    "    - provides breakdown of data for each region, even country\n",
    "4. the problem : Classify countries based on urbanization numbers and analyze the country's characteristics.\n",
    "5. Classification of countries with high and low level of urbanization\n",
    "6. explain results with graphics, solution : Point out which country has the highest and lowest urbanization\n",
    "7. remarks and suggestion\n",
    "8. write article"
   ]
  },
  {
   "attachments": {},
   "cell_type": "markdown",
   "metadata": {},
   "source": [
    "# 1. Datasets Chosen \n",
    "- Number of people living in urban areas\n",
    "\n",
    "https://ourworldindata.org/urbanization"
   ]
  },
  {
   "attachments": {},
   "cell_type": "markdown",
   "metadata": {},
   "source": [
    "# 2. Data Preprocessing\n",
    "- import dataset\n",
    "- filter for year\n",
    "- make another dataset for counting migration in 5 yrs period\n",
    "- remove unnecessary columns"
   ]
  },
  {
   "cell_type": "code",
   "execution_count": 7,
   "metadata": {},
   "outputs": [
    {
     "data": {
      "text/html": [
       "<div>\n",
       "<style scoped>\n",
       "    .dataframe tbody tr th:only-of-type {\n",
       "        vertical-align: middle;\n",
       "    }\n",
       "\n",
       "    .dataframe tbody tr th {\n",
       "        vertical-align: top;\n",
       "    }\n",
       "\n",
       "    .dataframe thead th {\n",
       "        text-align: right;\n",
       "    }\n",
       "</style>\n",
       "<table border=\"1\" class=\"dataframe\">\n",
       "  <thead>\n",
       "    <tr style=\"text-align: right;\">\n",
       "      <th></th>\n",
       "      <th>Entity</th>\n",
       "      <th>Code</th>\n",
       "      <th>Year</th>\n",
       "      <th>Urban population</th>\n",
       "      <th>Rural population</th>\n",
       "    </tr>\n",
       "  </thead>\n",
       "  <tbody>\n",
       "    <tr>\n",
       "      <th>0</th>\n",
       "      <td>Afghanistan</td>\n",
       "      <td>AFG</td>\n",
       "      <td>1960</td>\n",
       "      <td>724373</td>\n",
       "      <td>7898093.0</td>\n",
       "    </tr>\n",
       "    <tr>\n",
       "      <th>1</th>\n",
       "      <td>Afghanistan</td>\n",
       "      <td>AFG</td>\n",
       "      <td>1961</td>\n",
       "      <td>763336</td>\n",
       "      <td>8026804.0</td>\n",
       "    </tr>\n",
       "    <tr>\n",
       "      <th>2</th>\n",
       "      <td>Afghanistan</td>\n",
       "      <td>AFG</td>\n",
       "      <td>1962</td>\n",
       "      <td>805062</td>\n",
       "      <td>8163985.0</td>\n",
       "    </tr>\n",
       "    <tr>\n",
       "      <th>3</th>\n",
       "      <td>Afghanistan</td>\n",
       "      <td>AFG</td>\n",
       "      <td>1963</td>\n",
       "      <td>849446</td>\n",
       "      <td>8308019.0</td>\n",
       "    </tr>\n",
       "    <tr>\n",
       "      <th>4</th>\n",
       "      <td>Afghanistan</td>\n",
       "      <td>AFG</td>\n",
       "      <td>1964</td>\n",
       "      <td>896820</td>\n",
       "      <td>8458694.0</td>\n",
       "    </tr>\n",
       "  </tbody>\n",
       "</table>\n",
       "</div>"
      ],
      "text/plain": [
       "        Entity Code  Year  Urban population  Rural population\n",
       "0  Afghanistan  AFG  1960            724373         7898093.0\n",
       "1  Afghanistan  AFG  1961            763336         8026804.0\n",
       "2  Afghanistan  AFG  1962            805062         8163985.0\n",
       "3  Afghanistan  AFG  1963            849446         8308019.0\n",
       "4  Afghanistan  AFG  1964            896820         8458694.0"
      ]
     },
     "execution_count": 7,
     "metadata": {},
     "output_type": "execute_result"
    }
   ],
   "source": [
    "import pandas as pd\n",
    "\n",
    "# import all data\n",
    "urban = pd.read_csv('./urban-and-rural-population.csv')\n",
    "urban.head()"
   ]
  },
  {
   "cell_type": "code",
   "execution_count": 8,
   "metadata": {},
   "outputs": [
    {
     "data": {
      "text/html": [
       "<div>\n",
       "<style scoped>\n",
       "    .dataframe tbody tr th:only-of-type {\n",
       "        vertical-align: middle;\n",
       "    }\n",
       "\n",
       "    .dataframe tbody tr th {\n",
       "        vertical-align: top;\n",
       "    }\n",
       "\n",
       "    .dataframe thead th {\n",
       "        text-align: right;\n",
       "    }\n",
       "</style>\n",
       "<table border=\"1\" class=\"dataframe\">\n",
       "  <thead>\n",
       "    <tr style=\"text-align: right;\">\n",
       "      <th></th>\n",
       "      <th>Entity</th>\n",
       "      <th>Code</th>\n",
       "      <th>Year</th>\n",
       "      <th>Urban population</th>\n",
       "      <th>Rural population</th>\n",
       "    </tr>\n",
       "  </thead>\n",
       "  <tbody>\n",
       "    <tr>\n",
       "      <th>0</th>\n",
       "      <td>Afghanistan</td>\n",
       "      <td>AFG</td>\n",
       "      <td>1960</td>\n",
       "      <td>724373</td>\n",
       "      <td>7898093.0</td>\n",
       "    </tr>\n",
       "    <tr>\n",
       "      <th>1</th>\n",
       "      <td>Afghanistan</td>\n",
       "      <td>AFG</td>\n",
       "      <td>1961</td>\n",
       "      <td>763336</td>\n",
       "      <td>8026804.0</td>\n",
       "    </tr>\n",
       "    <tr>\n",
       "      <th>2</th>\n",
       "      <td>Afghanistan</td>\n",
       "      <td>AFG</td>\n",
       "      <td>1962</td>\n",
       "      <td>805062</td>\n",
       "      <td>8163985.0</td>\n",
       "    </tr>\n",
       "    <tr>\n",
       "      <th>3</th>\n",
       "      <td>Afghanistan</td>\n",
       "      <td>AFG</td>\n",
       "      <td>1963</td>\n",
       "      <td>849446</td>\n",
       "      <td>8308019.0</td>\n",
       "    </tr>\n",
       "    <tr>\n",
       "      <th>4</th>\n",
       "      <td>Afghanistan</td>\n",
       "      <td>AFG</td>\n",
       "      <td>1964</td>\n",
       "      <td>896820</td>\n",
       "      <td>8458694.0</td>\n",
       "    </tr>\n",
       "  </tbody>\n",
       "</table>\n",
       "</div>"
      ],
      "text/plain": [
       "        Entity Code  Year  Urban population  Rural population\n",
       "0  Afghanistan  AFG  1960            724373         7898093.0\n",
       "1  Afghanistan  AFG  1961            763336         8026804.0\n",
       "2  Afghanistan  AFG  1962            805062         8163985.0\n",
       "3  Afghanistan  AFG  1963            849446         8308019.0\n",
       "4  Afghanistan  AFG  1964            896820         8458694.0"
      ]
     },
     "execution_count": 8,
     "metadata": {},
     "output_type": "execute_result"
    }
   ],
   "source": [
    "#exclude world, regions, and income groups\n",
    "urban = urban[urban['Entity'].isin([\n",
    "    'Low-income countries',\n",
    "    'Lower-middle-income countries',\n",
    "    'Middle-income countries',\n",
    "    'Upper-middle-income countries',\n",
    "    'High-income countries', \n",
    "    'Middle East and North Africa (WB)', \n",
    "    'North America (WB)', \n",
    "    'South Asia (WB)',\n",
    "    'Sub-Saharan Africa (WB)', \n",
    "    'Latin America and Caribbean (WB)',\n",
    "    'Europe and Central Asia (WB)',\n",
    "    'European Union (27)',\n",
    "    'East Asia and Pacific (WB)',\n",
    "    'World'])==False].reset_index(drop=True)\n",
    "\n",
    "urban.head()"
   ]
  },
  {
   "cell_type": "code",
   "execution_count": 9,
   "metadata": {},
   "outputs": [
    {
     "data": {
      "text/html": [
       "<div>\n",
       "<style scoped>\n",
       "    .dataframe tbody tr th:only-of-type {\n",
       "        vertical-align: middle;\n",
       "    }\n",
       "\n",
       "    .dataframe tbody tr th {\n",
       "        vertical-align: top;\n",
       "    }\n",
       "\n",
       "    .dataframe thead th {\n",
       "        text-align: right;\n",
       "    }\n",
       "</style>\n",
       "<table border=\"1\" class=\"dataframe\">\n",
       "  <thead>\n",
       "    <tr style=\"text-align: right;\">\n",
       "      <th></th>\n",
       "      <th>Entity</th>\n",
       "      <th>Code</th>\n",
       "      <th>Year</th>\n",
       "      <th>Urban population</th>\n",
       "      <th>Rural population</th>\n",
       "    </tr>\n",
       "  </thead>\n",
       "  <tbody>\n",
       "    <tr>\n",
       "      <th>0</th>\n",
       "      <td>Afghanistan</td>\n",
       "      <td>AFG</td>\n",
       "      <td>2021</td>\n",
       "      <td>10551772</td>\n",
       "      <td>29547690.0</td>\n",
       "    </tr>\n",
       "    <tr>\n",
       "      <th>1</th>\n",
       "      <td>Albania</td>\n",
       "      <td>ALB</td>\n",
       "      <td>2021</td>\n",
       "      <td>1770478</td>\n",
       "      <td>1041188.0</td>\n",
       "    </tr>\n",
       "    <tr>\n",
       "      <th>2</th>\n",
       "      <td>Algeria</td>\n",
       "      <td>DZA</td>\n",
       "      <td>2021</td>\n",
       "      <td>32807002</td>\n",
       "      <td>11370967.0</td>\n",
       "    </tr>\n",
       "    <tr>\n",
       "      <th>3</th>\n",
       "      <td>American Samoa</td>\n",
       "      <td>ASM</td>\n",
       "      <td>2021</td>\n",
       "      <td>39257</td>\n",
       "      <td>5778.0</td>\n",
       "    </tr>\n",
       "    <tr>\n",
       "      <th>4</th>\n",
       "      <td>Andorra</td>\n",
       "      <td>AND</td>\n",
       "      <td>2021</td>\n",
       "      <td>69438</td>\n",
       "      <td>9596.0</td>\n",
       "    </tr>\n",
       "  </tbody>\n",
       "</table>\n",
       "</div>"
      ],
      "text/plain": [
       "           Entity Code  Year  Urban population  Rural population\n",
       "0     Afghanistan  AFG  2021          10551772        29547690.0\n",
       "1         Albania  ALB  2021           1770478         1041188.0\n",
       "2         Algeria  DZA  2021          32807002        11370967.0\n",
       "3  American Samoa  ASM  2021             39257            5778.0\n",
       "4         Andorra  AND  2021             69438            9596.0"
      ]
     },
     "execution_count": 9,
     "metadata": {},
     "output_type": "execute_result"
    }
   ],
   "source": [
    "# filter for year, only 2021 is counted\n",
    "urban2 = urban.copy()\n",
    "urban2 = urban2[urban2['Year'].isin([2021])].reset_index(drop=True)\n",
    "\n",
    "urban2.head()"
   ]
  },
  {
   "cell_type": "code",
   "execution_count": 10,
   "metadata": {},
   "outputs": [
    {
     "data": {
      "text/html": [
       "<div>\n",
       "<style scoped>\n",
       "    .dataframe tbody tr th:only-of-type {\n",
       "        vertical-align: middle;\n",
       "    }\n",
       "\n",
       "    .dataframe tbody tr th {\n",
       "        vertical-align: top;\n",
       "    }\n",
       "\n",
       "    .dataframe thead th {\n",
       "        text-align: right;\n",
       "    }\n",
       "</style>\n",
       "<table border=\"1\" class=\"dataframe\">\n",
       "  <thead>\n",
       "    <tr style=\"text-align: right;\">\n",
       "      <th></th>\n",
       "      <th>Entity</th>\n",
       "      <th>Code</th>\n",
       "      <th>Year</th>\n",
       "      <th>Urban population</th>\n",
       "      <th>Rural population</th>\n",
       "    </tr>\n",
       "  </thead>\n",
       "  <tbody>\n",
       "    <tr>\n",
       "      <th>0</th>\n",
       "      <td>Afghanistan</td>\n",
       "      <td>AFG</td>\n",
       "      <td>2017</td>\n",
       "      <td>8999963</td>\n",
       "      <td>26643456.0</td>\n",
       "    </tr>\n",
       "    <tr>\n",
       "      <th>1</th>\n",
       "      <td>Afghanistan</td>\n",
       "      <td>AFG</td>\n",
       "      <td>2018</td>\n",
       "      <td>9353296</td>\n",
       "      <td>27333488.0</td>\n",
       "    </tr>\n",
       "    <tr>\n",
       "      <th>2</th>\n",
       "      <td>Afghanistan</td>\n",
       "      <td>AFG</td>\n",
       "      <td>2019</td>\n",
       "      <td>9727157</td>\n",
       "      <td>28042342.0</td>\n",
       "    </tr>\n",
       "    <tr>\n",
       "      <th>3</th>\n",
       "      <td>Afghanistan</td>\n",
       "      <td>AFG</td>\n",
       "      <td>2020</td>\n",
       "      <td>10142913</td>\n",
       "      <td>28829316.0</td>\n",
       "    </tr>\n",
       "    <tr>\n",
       "      <th>4</th>\n",
       "      <td>Afghanistan</td>\n",
       "      <td>AFG</td>\n",
       "      <td>2021</td>\n",
       "      <td>10551772</td>\n",
       "      <td>29547690.0</td>\n",
       "    </tr>\n",
       "  </tbody>\n",
       "</table>\n",
       "</div>"
      ],
      "text/plain": [
       "        Entity Code  Year  Urban population  Rural population\n",
       "0  Afghanistan  AFG  2017           8999963        26643456.0\n",
       "1  Afghanistan  AFG  2018           9353296        27333488.0\n",
       "2  Afghanistan  AFG  2019           9727157        28042342.0\n",
       "3  Afghanistan  AFG  2020          10142913        28829316.0\n",
       "4  Afghanistan  AFG  2021          10551772        29547690.0"
      ]
     },
     "execution_count": 10,
     "metadata": {},
     "output_type": "execute_result"
    }
   ],
   "source": [
    "# filter for 5-year period\n",
    "urban_5yr = urban.copy()\n",
    "urban_5yr = urban_5yr[urban_5yr['Year'].isin([2021,2020,2019,2018,2017])].reset_index(drop=True)\n",
    "\n",
    "urban_5yr.head()"
   ]
  },
  {
   "cell_type": "code",
   "execution_count": 11,
   "metadata": {},
   "outputs": [
    {
     "data": {
      "text/html": [
       "<div>\n",
       "<style scoped>\n",
       "    .dataframe tbody tr th:only-of-type {\n",
       "        vertical-align: middle;\n",
       "    }\n",
       "\n",
       "    .dataframe tbody tr th {\n",
       "        vertical-align: top;\n",
       "    }\n",
       "\n",
       "    .dataframe thead th {\n",
       "        text-align: right;\n",
       "    }\n",
       "</style>\n",
       "<table border=\"1\" class=\"dataframe\">\n",
       "  <thead>\n",
       "    <tr style=\"text-align: right;\">\n",
       "      <th></th>\n",
       "      <th>Country</th>\n",
       "      <th>Urban</th>\n",
       "      <th>Rural</th>\n",
       "    </tr>\n",
       "  </thead>\n",
       "  <tbody>\n",
       "    <tr>\n",
       "      <th>0</th>\n",
       "      <td>Afghanistan</td>\n",
       "      <td>10551772</td>\n",
       "      <td>29547690.0</td>\n",
       "    </tr>\n",
       "    <tr>\n",
       "      <th>1</th>\n",
       "      <td>Albania</td>\n",
       "      <td>1770478</td>\n",
       "      <td>1041188.0</td>\n",
       "    </tr>\n",
       "    <tr>\n",
       "      <th>2</th>\n",
       "      <td>Algeria</td>\n",
       "      <td>32807002</td>\n",
       "      <td>11370967.0</td>\n",
       "    </tr>\n",
       "    <tr>\n",
       "      <th>3</th>\n",
       "      <td>American Samoa</td>\n",
       "      <td>39257</td>\n",
       "      <td>5778.0</td>\n",
       "    </tr>\n",
       "    <tr>\n",
       "      <th>4</th>\n",
       "      <td>Andorra</td>\n",
       "      <td>69438</td>\n",
       "      <td>9596.0</td>\n",
       "    </tr>\n",
       "  </tbody>\n",
       "</table>\n",
       "</div>"
      ],
      "text/plain": [
       "          Country     Urban       Rural\n",
       "0     Afghanistan  10551772  29547690.0\n",
       "1         Albania   1770478   1041188.0\n",
       "2         Algeria  32807002  11370967.0\n",
       "3  American Samoa     39257      5778.0\n",
       "4         Andorra     69438      9596.0"
      ]
     },
     "execution_count": 11,
     "metadata": {},
     "output_type": "execute_result"
    }
   ],
   "source": [
    "# delete unnecessary columns\n",
    "del urban2['Code']\n",
    "del urban2['Year']\n",
    "del urban_5yr['Code']\n",
    "del urban_5yr['Year']\n",
    "\n",
    "# rename columns\n",
    "urban2.rename(columns={'Entity':'Country', 'Urban population':'Urban', 'Rural population':'Rural'}, inplace=True)\n",
    "urban_5yr.rename(columns={'Entity':'Country', 'Urban population':'Urban', 'Rural population':'Rural'}, inplace=True)\n",
    "\n",
    "urban2.head()"
   ]
  },
  {
   "attachments": {},
   "cell_type": "markdown",
   "metadata": {},
   "source": [
    "# 3. Reason for choosing the data\n",
    "- the data collected spans from 1960 – 2021\n",
    "- part of the UNICEF-backed global World Development Indicator\n",
    "- high quality, accurate, clearly defined, and well-tested data\n",
    "- provides breakdown of data for each region, even country"
   ]
  },
  {
   "attachments": {},
   "cell_type": "markdown",
   "metadata": {},
   "source": [
    "# 4. The Problem\n",
    "\n",
    "Classify countries based on urbanization numbers and analyze the country's characteristics."
   ]
  },
  {
   "attachments": {},
   "cell_type": "markdown",
   "metadata": {},
   "source": [
    "# 5. Classify Countries Urbanization\n",
    "\n",
    "### 2021 period\n",
    "We will analyze the levels of urbanization in every country in the world in 2021. We will use k-means algorithm to cluster the data, and plotly.express to graph it"
   ]
  },
  {
   "cell_type": "code",
   "execution_count": 12,
   "metadata": {},
   "outputs": [
    {
     "data": {
      "application/vnd.plotly.v1+json": {
       "config": {
        "plotlyServerURL": "https://plot.ly"
       },
       "data": [
        {
         "customdata": [
          [
           "Afghanistan"
          ],
          [
           "Albania"
          ],
          [
           "Algeria"
          ],
          [
           "American Samoa"
          ],
          [
           "Andorra"
          ],
          [
           "Angola"
          ],
          [
           "Antigua and Barbuda"
          ],
          [
           "Argentina"
          ],
          [
           "Armenia"
          ],
          [
           "Aruba"
          ],
          [
           "Australia"
          ],
          [
           "Austria"
          ],
          [
           "Azerbaijan"
          ],
          [
           "Bahamas"
          ],
          [
           "Bahrain"
          ],
          [
           "Bangladesh"
          ],
          [
           "Barbados"
          ],
          [
           "Belarus"
          ],
          [
           "Belgium"
          ],
          [
           "Belize"
          ],
          [
           "Benin"
          ],
          [
           "Bermuda"
          ],
          [
           "Bhutan"
          ],
          [
           "Bolivia"
          ],
          [
           "Bosnia and Herzegovina"
          ],
          [
           "Botswana"
          ],
          [
           "Brazil"
          ],
          [
           "British Virgin Islands"
          ],
          [
           "Brunei"
          ],
          [
           "Bulgaria"
          ],
          [
           "Burkina Faso"
          ],
          [
           "Burundi"
          ],
          [
           "Cambodia"
          ],
          [
           "Cameroon"
          ],
          [
           "Canada"
          ],
          [
           "Cape Verde"
          ],
          [
           "Cayman Islands"
          ],
          [
           "Central African Republic"
          ],
          [
           "Chad"
          ],
          [
           "Channel Islands"
          ],
          [
           "Chile"
          ],
          [
           "China"
          ],
          [
           "Colombia"
          ],
          [
           "Comoros"
          ],
          [
           "Congo"
          ],
          [
           "Costa Rica"
          ],
          [
           "Cote d'Ivoire"
          ],
          [
           "Croatia"
          ],
          [
           "Cuba"
          ],
          [
           "Curacao"
          ],
          [
           "Cyprus"
          ],
          [
           "Czechia"
          ],
          [
           "Democratic Republic of Congo"
          ],
          [
           "Denmark"
          ],
          [
           "Djibouti"
          ],
          [
           "Dominica"
          ],
          [
           "Dominican Republic"
          ],
          [
           "East Timor"
          ],
          [
           "Ecuador"
          ],
          [
           "Egypt"
          ],
          [
           "El Salvador"
          ],
          [
           "Equatorial Guinea"
          ],
          [
           "Eritrea"
          ],
          [
           "Estonia"
          ],
          [
           "Eswatini"
          ],
          [
           "Ethiopia"
          ],
          [
           "Faeroe Islands"
          ],
          [
           "Fiji"
          ],
          [
           "Finland"
          ],
          [
           "France"
          ],
          [
           "French Polynesia"
          ],
          [
           "Gabon"
          ],
          [
           "Gambia"
          ],
          [
           "Georgia"
          ],
          [
           "Germany"
          ],
          [
           "Ghana"
          ],
          [
           "Gibraltar"
          ],
          [
           "Greece"
          ],
          [
           "Greenland"
          ],
          [
           "Grenada"
          ],
          [
           "Guam"
          ],
          [
           "Guatemala"
          ],
          [
           "Guinea"
          ],
          [
           "Guinea-Bissau"
          ],
          [
           "Guyana"
          ],
          [
           "Haiti"
          ],
          [
           "Honduras"
          ],
          [
           "Hong Kong"
          ],
          [
           "Hungary"
          ],
          [
           "Iceland"
          ],
          [
           "India"
          ],
          [
           "Indonesia"
          ],
          [
           "Iran"
          ],
          [
           "Iraq"
          ],
          [
           "Ireland"
          ],
          [
           "Isle of Man"
          ],
          [
           "Israel"
          ],
          [
           "Italy"
          ],
          [
           "Jamaica"
          ],
          [
           "Japan"
          ],
          [
           "Jordan"
          ],
          [
           "Kazakhstan"
          ],
          [
           "Kenya"
          ],
          [
           "Kiribati"
          ],
          [
           "Kuwait"
          ],
          [
           "Kyrgyzstan"
          ],
          [
           "Laos"
          ],
          [
           "Latvia"
          ],
          [
           "Lebanon"
          ],
          [
           "Lesotho"
          ],
          [
           "Liberia"
          ],
          [
           "Libya"
          ],
          [
           "Liechtenstein"
          ],
          [
           "Lithuania"
          ],
          [
           "Luxembourg"
          ],
          [
           "Macao"
          ],
          [
           "Madagascar"
          ],
          [
           "Malawi"
          ],
          [
           "Malaysia"
          ],
          [
           "Maldives"
          ],
          [
           "Mali"
          ],
          [
           "Malta"
          ],
          [
           "Marshall Islands"
          ],
          [
           "Mauritania"
          ],
          [
           "Mauritius"
          ],
          [
           "Mexico"
          ],
          [
           "Micronesia (country)"
          ],
          [
           "Moldova"
          ],
          [
           "Monaco"
          ],
          [
           "Mongolia"
          ],
          [
           "Montenegro"
          ],
          [
           "Morocco"
          ],
          [
           "Mozambique"
          ],
          [
           "Myanmar"
          ],
          [
           "Namibia"
          ],
          [
           "Nauru"
          ],
          [
           "Nepal"
          ],
          [
           "Netherlands"
          ],
          [
           "New Caledonia"
          ],
          [
           "New Zealand"
          ],
          [
           "Nicaragua"
          ],
          [
           "Niger"
          ],
          [
           "Nigeria"
          ],
          [
           "North Korea"
          ],
          [
           "North Macedonia"
          ],
          [
           "Northern Mariana Islands"
          ],
          [
           "Norway"
          ],
          [
           "Oman"
          ],
          [
           "Pakistan"
          ],
          [
           "Palau"
          ],
          [
           "Panama"
          ],
          [
           "Papua New Guinea"
          ],
          [
           "Paraguay"
          ],
          [
           "Peru"
          ],
          [
           "Philippines"
          ],
          [
           "Poland"
          ],
          [
           "Portugal"
          ],
          [
           "Puerto Rico"
          ],
          [
           "Qatar"
          ],
          [
           "Romania"
          ],
          [
           "Russia"
          ],
          [
           "Rwanda"
          ],
          [
           "Saint Kitts and Nevis"
          ],
          [
           "Saint Lucia"
          ],
          [
           "Saint Vincent and the Grenadines"
          ],
          [
           "Samoa"
          ],
          [
           "San Marino"
          ],
          [
           "Sao Tome and Principe"
          ],
          [
           "Saudi Arabia"
          ],
          [
           "Senegal"
          ],
          [
           "Serbia"
          ],
          [
           "Seychelles"
          ],
          [
           "Sierra Leone"
          ],
          [
           "Singapore"
          ],
          [
           "Sint Maarten (Dutch part)"
          ],
          [
           "Slovakia"
          ],
          [
           "Slovenia"
          ],
          [
           "Solomon Islands"
          ],
          [
           "Somalia"
          ],
          [
           "South Africa"
          ],
          [
           "South Korea"
          ],
          [
           "South Sudan"
          ],
          [
           "Spain"
          ],
          [
           "Sri Lanka"
          ],
          [
           "Sudan"
          ],
          [
           "Suriname"
          ],
          [
           "Sweden"
          ],
          [
           "Switzerland"
          ],
          [
           "Syria"
          ],
          [
           "Tajikistan"
          ],
          [
           "Tanzania"
          ],
          [
           "Thailand"
          ],
          [
           "Togo"
          ],
          [
           "Tonga"
          ],
          [
           "Trinidad and Tobago"
          ],
          [
           "Tunisia"
          ],
          [
           "Turkey"
          ],
          [
           "Turkmenistan"
          ],
          [
           "Turks and Caicos Islands"
          ],
          [
           "Tuvalu"
          ],
          [
           "Uganda"
          ],
          [
           "Ukraine"
          ],
          [
           "United Arab Emirates"
          ],
          [
           "United Kingdom"
          ],
          [
           "United States"
          ],
          [
           "United States Virgin Islands"
          ],
          [
           "Uruguay"
          ],
          [
           "Uzbekistan"
          ],
          [
           "Vanuatu"
          ],
          [
           "Venezuela"
          ],
          [
           "Vietnam"
          ],
          [
           "West Bank and Gaza"
          ],
          [
           "Yemen"
          ],
          [
           "Zambia"
          ],
          [
           "Zimbabwe"
          ]
         ],
         "hovertemplate": "Urban=%{marker.color}<br>Rural=%{y}<br>Country=%{customdata[0]}<extra></extra>",
         "legendgroup": "",
         "marker": {
          "color": [
           10551772,
           1770478,
           32807002,
           39257,
           69438,
           23276246,
           22727,
           42248949,
           1770343,
           46734,
           22184739,
           5283472,
           5755809,
           340051,
           1311407,
           65957486,
           87864,
           7463845,
           11374657,
           184818,
           6364839,
           63867,
           334381,
           8513008,
           1616664,
           1852275,
           187143228,
           15225,
           349858,
           5228804,
           6904253,
           1764450,
           4092180,
           15815458,
           31229095,
           394509,
           68136,
           2327367,
           4085514,
           53552,
           17118329,
           882894483,
           42109638,
           243308,
           3984863,
           4196609,
           14338150,
           2256663,
           8700275,
           135666,
           831814,
           7796754,
           44336645,
           5167981,
           864734,
           51699,
           9251516,
           418673,
           11454802,
           46831955,
           4679934,
           1202330,
           1519988,
           923866,
           290545,
           26671558,
           22522,
           533870,
           4742889,
           55041156,
           188701,
           2116964,
           1669008,
           2220419,
           64513567,
           19038233,
           32669,
           8517020,
           49575,
           45724,
           162033,
           8938987,
           5042529,
           919432,
           216404,
           6635469,
           6062373,
           7413100,
           7014911,
           349960,
           498179071,
           156833203,
           67125144,
           30960655,
           3216796,
           44723,
           8677993,
           42172384,
           1601946,
           115459909,
           10214721,
           10986561,
           15102890,
           72601,
           4250114,
           2485736,
           2742742,
           1289387,
           4982643,
           672573,
           2730335,
           5455170,
           5649,
           1911545,
           586759,
           686607,
           11336960,
           3519490,
           26085557,
           214329,
           9786489,
           491624,
           32867,
           2590523,
           516236,
           102651435,
           26097,
           1124483,
           36686,
           2302772,
           419986,
           23753114,
           12069961,
           16918421,
           1341107,
           12511,
           6309750,
           16230689,
           194938,
           4445853,
           4060795,
           4230083,
           112560662,
           16269323,
           1213985,
           45468,
           4506374,
           3934799,
           86636953,
           14686,
           2992584,
           1338796,
           4189606,
           26466645,
           54302696,
           22676585,
           6902258,
           3054454,
           2668826,
           10387640,
           107492288,
           2364984,
           14713,
           34026,
           55768,
           38813,
           32942,
           167493,
           30380961,
           8202086,
           3871714,
           57542,
           3652200,
           5453566,
           42846,
           2931708,
           1168445,
           177869,
           7974917,
           40295863,
           42127573,
           2204901,
           38433310,
           4178622,
           16250768,
           405913,
           9190703,
           6440172,
           11968088,
           2703303,
           22862550,
           37349283,
           3748225,
           24494,
           812644,
           8570328,
           64911679,
           3361056,
           42332,
           7259,
           11717016,
           30548582,
           8175678,
           56656654,
           275050303,
           101678,
           3275607,
           17606637,
           81907,
           24907533,
           37088534,
           3790664,
           12713103,
           8800295,
           5166388
          ],
          "coloraxis": "coloraxis",
          "symbol": "circle"
         },
         "mode": "markers",
         "name": "",
         "orientation": "v",
         "showlegend": false,
         "type": "scatter",
         "x": [
          10551772,
          1770478,
          32807002,
          39257,
          69438,
          23276246,
          22727,
          42248949,
          1770343,
          46734,
          22184739,
          5283472,
          5755809,
          340051,
          1311407,
          65957486,
          87864,
          7463845,
          11374657,
          184818,
          6364839,
          63867,
          334381,
          8513008,
          1616664,
          1852275,
          187143228,
          15225,
          349858,
          5228804,
          6904253,
          1764450,
          4092180,
          15815458,
          31229095,
          394509,
          68136,
          2327367,
          4085514,
          53552,
          17118329,
          882894483,
          42109638,
          243308,
          3984863,
          4196609,
          14338150,
          2256663,
          8700275,
          135666,
          831814,
          7796754,
          44336645,
          5167981,
          864734,
          51699,
          9251516,
          418673,
          11454802,
          46831955,
          4679934,
          1202330,
          1519988,
          923866,
          290545,
          26671558,
          22522,
          533870,
          4742889,
          55041156,
          188701,
          2116964,
          1669008,
          2220419,
          64513567,
          19038233,
          32669,
          8517020,
          49575,
          45724,
          162033,
          8938987,
          5042529,
          919432,
          216404,
          6635469,
          6062373,
          7413100,
          7014911,
          349960,
          498179071,
          156833203,
          67125144,
          30960655,
          3216796,
          44723,
          8677993,
          42172384,
          1601946,
          115459909,
          10214721,
          10986561,
          15102890,
          72601,
          4250114,
          2485736,
          2742742,
          1289387,
          4982643,
          672573,
          2730335,
          5455170,
          5649,
          1911545,
          586759,
          686607,
          11336960,
          3519490,
          26085557,
          214329,
          9786489,
          491624,
          32867,
          2590523,
          516236,
          102651435,
          26097,
          1124483,
          36686,
          2302772,
          419986,
          23753114,
          12069961,
          16918421,
          1341107,
          12511,
          6309750,
          16230689,
          194938,
          4445853,
          4060795,
          4230083,
          112560662,
          16269323,
          1213985,
          45468,
          4506374,
          3934799,
          86636953,
          14686,
          2992584,
          1338796,
          4189606,
          26466645,
          54302696,
          22676585,
          6902258,
          3054454,
          2668826,
          10387640,
          107492288,
          2364984,
          14713,
          34026,
          55768,
          38813,
          32942,
          167493,
          30380961,
          8202086,
          3871714,
          57542,
          3652200,
          5453566,
          42846,
          2931708,
          1168445,
          177869,
          7974917,
          40295863,
          42127573,
          2204901,
          38433310,
          4178622,
          16250768,
          405913,
          9190703,
          6440172,
          11968088,
          2703303,
          22862550,
          37349283,
          3748225,
          24494,
          812644,
          8570328,
          64911679,
          3361056,
          42332,
          7259,
          11717016,
          30548582,
          8175678,
          56656654,
          275050303,
          101678,
          3275607,
          17606637,
          81907,
          24907533,
          37088534,
          3790664,
          12713103,
          8800295,
          5166388
         ],
         "xaxis": "x",
         "y": [
          29547690,
          1041188,
          11370967,
          5778,
          9596,
          11227528,
          70492,
          3559798,
          1020631,
          59803,
          3503340,
          3672325,
          4381941,
          67855,
          151858,
          103398770,
          193336,
          1876469,
          218295,
          215213,
          6632056,
          0,
          443105,
          3566464,
          1654279,
          736148,
          27182996,
          15897,
          95515,
          1648939,
          15196430,
          10786763,
          12496843,
          11383170,
          7017013,
          193416,
          0,
          3129787,
          13094226,
          119131,
          2374855,
          529465500,
          9406924,
          578317,
          1850943,
          957348,
          13140099,
          1642337,
          2556097,
          16703,
          412374,
          2709018,
          51557470,
          688752,
          240823,
          20713,
          1866357,
          902269,
          6342935,
          62430224,
          1634233,
          432136,
          2100324,
          407066,
          901726,
          93611470,
          30367,
          390740,
          798128,
          12708476,
          115331,
          224215,
          970908,
          1488191,
          18682512,
          13794798,
          0,
          2124201,
          7078,
          78886,
          8501,
          8170759,
          8489377,
          1141289,
          588163,
          4812100,
          4215972,
          0,
          2694980,
          22560,
          909384770,
          116919980,
          20798288,
          12572937,
          1816369,
          39540,
          686007,
          16937284,
          1225749,
          10221684,
          933557,
          8014427,
          37902724,
          56273,
          0,
          4206064,
          4682315,
          595103,
          609988,
          1608881,
          2463081,
          1280107,
          33390,
          889294,
          53305,
          0,
          17578692,
          16370252,
          7488317,
          307128,
          12118494,
          26912,
          9183,
          2024451,
          749824,
          24053704,
          87034,
          1490716,
          0,
          1045010,
          199225,
          13323470,
          20007112,
          36879664,
          1189044,
          0,
          23725240,
          1302355,
          76092.055,
          676747,
          2789745,
          21022640,
          100840664,
          9702586,
          851107,
          4013,
          901946,
          585672,
          144765170,
          3338,
          1358683,
          8610641,
          2514193,
          7248826,
          59577630,
          15070539,
          3422889,
          209130,
          19409,
          8732240,
          35957000,
          11096904,
          32893,
          145625,
          48564,
          179951,
          803,
          55614,
          5569435,
          8674634,
          2962612,
          41716,
          4768441,
          0,
          0,
          2515539,
          939634,
          529982,
          9090664,
          19096392,
          9617303,
          8543371,
          8982440,
          17977378,
          29406434,
          207072,
          1225108,
          2263233,
          9356279,
          7046761,
          40725784,
          34251820,
          4896604,
          81523,
          713019,
          3692618,
          19863724,
          2980799,
          2782,
          3945,
          34136760,
          13244273,
          1189467,
          10669915,
          56843440,
          4192,
          150653,
          17308464,
          237230,
          3292334,
          60379496,
          1132085,
          20268538,
          10672830,
          10827136
         ],
         "yaxis": "y"
        }
       ],
       "layout": {
        "coloraxis": {
         "colorbar": {
          "title": {
           "text": "Urban"
          }
         },
         "colorscale": [
          [
           0,
           "#0d0887"
          ],
          [
           0.1111111111111111,
           "#46039f"
          ],
          [
           0.2222222222222222,
           "#7201a8"
          ],
          [
           0.3333333333333333,
           "#9c179e"
          ],
          [
           0.4444444444444444,
           "#bd3786"
          ],
          [
           0.5555555555555556,
           "#d8576b"
          ],
          [
           0.6666666666666666,
           "#ed7953"
          ],
          [
           0.7777777777777778,
           "#fb9f3a"
          ],
          [
           0.8888888888888888,
           "#fdca26"
          ],
          [
           1,
           "#f0f921"
          ]
         ]
        },
        "legend": {
         "tracegroupgap": 0
        },
        "margin": {
         "t": 60
        },
        "template": {
         "data": {
          "bar": [
           {
            "error_x": {
             "color": "#2a3f5f"
            },
            "error_y": {
             "color": "#2a3f5f"
            },
            "marker": {
             "line": {
              "color": "#E5ECF6",
              "width": 0.5
             },
             "pattern": {
              "fillmode": "overlay",
              "size": 10,
              "solidity": 0.2
             }
            },
            "type": "bar"
           }
          ],
          "barpolar": [
           {
            "marker": {
             "line": {
              "color": "#E5ECF6",
              "width": 0.5
             },
             "pattern": {
              "fillmode": "overlay",
              "size": 10,
              "solidity": 0.2
             }
            },
            "type": "barpolar"
           }
          ],
          "carpet": [
           {
            "aaxis": {
             "endlinecolor": "#2a3f5f",
             "gridcolor": "white",
             "linecolor": "white",
             "minorgridcolor": "white",
             "startlinecolor": "#2a3f5f"
            },
            "baxis": {
             "endlinecolor": "#2a3f5f",
             "gridcolor": "white",
             "linecolor": "white",
             "minorgridcolor": "white",
             "startlinecolor": "#2a3f5f"
            },
            "type": "carpet"
           }
          ],
          "choropleth": [
           {
            "colorbar": {
             "outlinewidth": 0,
             "ticks": ""
            },
            "type": "choropleth"
           }
          ],
          "contour": [
           {
            "colorbar": {
             "outlinewidth": 0,
             "ticks": ""
            },
            "colorscale": [
             [
              0,
              "#0d0887"
             ],
             [
              0.1111111111111111,
              "#46039f"
             ],
             [
              0.2222222222222222,
              "#7201a8"
             ],
             [
              0.3333333333333333,
              "#9c179e"
             ],
             [
              0.4444444444444444,
              "#bd3786"
             ],
             [
              0.5555555555555556,
              "#d8576b"
             ],
             [
              0.6666666666666666,
              "#ed7953"
             ],
             [
              0.7777777777777778,
              "#fb9f3a"
             ],
             [
              0.8888888888888888,
              "#fdca26"
             ],
             [
              1,
              "#f0f921"
             ]
            ],
            "type": "contour"
           }
          ],
          "contourcarpet": [
           {
            "colorbar": {
             "outlinewidth": 0,
             "ticks": ""
            },
            "type": "contourcarpet"
           }
          ],
          "heatmap": [
           {
            "colorbar": {
             "outlinewidth": 0,
             "ticks": ""
            },
            "colorscale": [
             [
              0,
              "#0d0887"
             ],
             [
              0.1111111111111111,
              "#46039f"
             ],
             [
              0.2222222222222222,
              "#7201a8"
             ],
             [
              0.3333333333333333,
              "#9c179e"
             ],
             [
              0.4444444444444444,
              "#bd3786"
             ],
             [
              0.5555555555555556,
              "#d8576b"
             ],
             [
              0.6666666666666666,
              "#ed7953"
             ],
             [
              0.7777777777777778,
              "#fb9f3a"
             ],
             [
              0.8888888888888888,
              "#fdca26"
             ],
             [
              1,
              "#f0f921"
             ]
            ],
            "type": "heatmap"
           }
          ],
          "heatmapgl": [
           {
            "colorbar": {
             "outlinewidth": 0,
             "ticks": ""
            },
            "colorscale": [
             [
              0,
              "#0d0887"
             ],
             [
              0.1111111111111111,
              "#46039f"
             ],
             [
              0.2222222222222222,
              "#7201a8"
             ],
             [
              0.3333333333333333,
              "#9c179e"
             ],
             [
              0.4444444444444444,
              "#bd3786"
             ],
             [
              0.5555555555555556,
              "#d8576b"
             ],
             [
              0.6666666666666666,
              "#ed7953"
             ],
             [
              0.7777777777777778,
              "#fb9f3a"
             ],
             [
              0.8888888888888888,
              "#fdca26"
             ],
             [
              1,
              "#f0f921"
             ]
            ],
            "type": "heatmapgl"
           }
          ],
          "histogram": [
           {
            "marker": {
             "pattern": {
              "fillmode": "overlay",
              "size": 10,
              "solidity": 0.2
             }
            },
            "type": "histogram"
           }
          ],
          "histogram2d": [
           {
            "colorbar": {
             "outlinewidth": 0,
             "ticks": ""
            },
            "colorscale": [
             [
              0,
              "#0d0887"
             ],
             [
              0.1111111111111111,
              "#46039f"
             ],
             [
              0.2222222222222222,
              "#7201a8"
             ],
             [
              0.3333333333333333,
              "#9c179e"
             ],
             [
              0.4444444444444444,
              "#bd3786"
             ],
             [
              0.5555555555555556,
              "#d8576b"
             ],
             [
              0.6666666666666666,
              "#ed7953"
             ],
             [
              0.7777777777777778,
              "#fb9f3a"
             ],
             [
              0.8888888888888888,
              "#fdca26"
             ],
             [
              1,
              "#f0f921"
             ]
            ],
            "type": "histogram2d"
           }
          ],
          "histogram2dcontour": [
           {
            "colorbar": {
             "outlinewidth": 0,
             "ticks": ""
            },
            "colorscale": [
             [
              0,
              "#0d0887"
             ],
             [
              0.1111111111111111,
              "#46039f"
             ],
             [
              0.2222222222222222,
              "#7201a8"
             ],
             [
              0.3333333333333333,
              "#9c179e"
             ],
             [
              0.4444444444444444,
              "#bd3786"
             ],
             [
              0.5555555555555556,
              "#d8576b"
             ],
             [
              0.6666666666666666,
              "#ed7953"
             ],
             [
              0.7777777777777778,
              "#fb9f3a"
             ],
             [
              0.8888888888888888,
              "#fdca26"
             ],
             [
              1,
              "#f0f921"
             ]
            ],
            "type": "histogram2dcontour"
           }
          ],
          "mesh3d": [
           {
            "colorbar": {
             "outlinewidth": 0,
             "ticks": ""
            },
            "type": "mesh3d"
           }
          ],
          "parcoords": [
           {
            "line": {
             "colorbar": {
              "outlinewidth": 0,
              "ticks": ""
             }
            },
            "type": "parcoords"
           }
          ],
          "pie": [
           {
            "automargin": true,
            "type": "pie"
           }
          ],
          "scatter": [
           {
            "fillpattern": {
             "fillmode": "overlay",
             "size": 10,
             "solidity": 0.2
            },
            "type": "scatter"
           }
          ],
          "scatter3d": [
           {
            "line": {
             "colorbar": {
              "outlinewidth": 0,
              "ticks": ""
             }
            },
            "marker": {
             "colorbar": {
              "outlinewidth": 0,
              "ticks": ""
             }
            },
            "type": "scatter3d"
           }
          ],
          "scattercarpet": [
           {
            "marker": {
             "colorbar": {
              "outlinewidth": 0,
              "ticks": ""
             }
            },
            "type": "scattercarpet"
           }
          ],
          "scattergeo": [
           {
            "marker": {
             "colorbar": {
              "outlinewidth": 0,
              "ticks": ""
             }
            },
            "type": "scattergeo"
           }
          ],
          "scattergl": [
           {
            "marker": {
             "colorbar": {
              "outlinewidth": 0,
              "ticks": ""
             }
            },
            "type": "scattergl"
           }
          ],
          "scattermapbox": [
           {
            "marker": {
             "colorbar": {
              "outlinewidth": 0,
              "ticks": ""
             }
            },
            "type": "scattermapbox"
           }
          ],
          "scatterpolar": [
           {
            "marker": {
             "colorbar": {
              "outlinewidth": 0,
              "ticks": ""
             }
            },
            "type": "scatterpolar"
           }
          ],
          "scatterpolargl": [
           {
            "marker": {
             "colorbar": {
              "outlinewidth": 0,
              "ticks": ""
             }
            },
            "type": "scatterpolargl"
           }
          ],
          "scatterternary": [
           {
            "marker": {
             "colorbar": {
              "outlinewidth": 0,
              "ticks": ""
             }
            },
            "type": "scatterternary"
           }
          ],
          "surface": [
           {
            "colorbar": {
             "outlinewidth": 0,
             "ticks": ""
            },
            "colorscale": [
             [
              0,
              "#0d0887"
             ],
             [
              0.1111111111111111,
              "#46039f"
             ],
             [
              0.2222222222222222,
              "#7201a8"
             ],
             [
              0.3333333333333333,
              "#9c179e"
             ],
             [
              0.4444444444444444,
              "#bd3786"
             ],
             [
              0.5555555555555556,
              "#d8576b"
             ],
             [
              0.6666666666666666,
              "#ed7953"
             ],
             [
              0.7777777777777778,
              "#fb9f3a"
             ],
             [
              0.8888888888888888,
              "#fdca26"
             ],
             [
              1,
              "#f0f921"
             ]
            ],
            "type": "surface"
           }
          ],
          "table": [
           {
            "cells": {
             "fill": {
              "color": "#EBF0F8"
             },
             "line": {
              "color": "white"
             }
            },
            "header": {
             "fill": {
              "color": "#C8D4E3"
             },
             "line": {
              "color": "white"
             }
            },
            "type": "table"
           }
          ]
         },
         "layout": {
          "annotationdefaults": {
           "arrowcolor": "#2a3f5f",
           "arrowhead": 0,
           "arrowwidth": 1
          },
          "autotypenumbers": "strict",
          "coloraxis": {
           "colorbar": {
            "outlinewidth": 0,
            "ticks": ""
           }
          },
          "colorscale": {
           "diverging": [
            [
             0,
             "#8e0152"
            ],
            [
             0.1,
             "#c51b7d"
            ],
            [
             0.2,
             "#de77ae"
            ],
            [
             0.3,
             "#f1b6da"
            ],
            [
             0.4,
             "#fde0ef"
            ],
            [
             0.5,
             "#f7f7f7"
            ],
            [
             0.6,
             "#e6f5d0"
            ],
            [
             0.7,
             "#b8e186"
            ],
            [
             0.8,
             "#7fbc41"
            ],
            [
             0.9,
             "#4d9221"
            ],
            [
             1,
             "#276419"
            ]
           ],
           "sequential": [
            [
             0,
             "#0d0887"
            ],
            [
             0.1111111111111111,
             "#46039f"
            ],
            [
             0.2222222222222222,
             "#7201a8"
            ],
            [
             0.3333333333333333,
             "#9c179e"
            ],
            [
             0.4444444444444444,
             "#bd3786"
            ],
            [
             0.5555555555555556,
             "#d8576b"
            ],
            [
             0.6666666666666666,
             "#ed7953"
            ],
            [
             0.7777777777777778,
             "#fb9f3a"
            ],
            [
             0.8888888888888888,
             "#fdca26"
            ],
            [
             1,
             "#f0f921"
            ]
           ],
           "sequentialminus": [
            [
             0,
             "#0d0887"
            ],
            [
             0.1111111111111111,
             "#46039f"
            ],
            [
             0.2222222222222222,
             "#7201a8"
            ],
            [
             0.3333333333333333,
             "#9c179e"
            ],
            [
             0.4444444444444444,
             "#bd3786"
            ],
            [
             0.5555555555555556,
             "#d8576b"
            ],
            [
             0.6666666666666666,
             "#ed7953"
            ],
            [
             0.7777777777777778,
             "#fb9f3a"
            ],
            [
             0.8888888888888888,
             "#fdca26"
            ],
            [
             1,
             "#f0f921"
            ]
           ]
          },
          "colorway": [
           "#636efa",
           "#EF553B",
           "#00cc96",
           "#ab63fa",
           "#FFA15A",
           "#19d3f3",
           "#FF6692",
           "#B6E880",
           "#FF97FF",
           "#FECB52"
          ],
          "font": {
           "color": "#2a3f5f"
          },
          "geo": {
           "bgcolor": "white",
           "lakecolor": "white",
           "landcolor": "#E5ECF6",
           "showlakes": true,
           "showland": true,
           "subunitcolor": "white"
          },
          "hoverlabel": {
           "align": "left"
          },
          "hovermode": "closest",
          "mapbox": {
           "style": "light"
          },
          "paper_bgcolor": "white",
          "plot_bgcolor": "#E5ECF6",
          "polar": {
           "angularaxis": {
            "gridcolor": "white",
            "linecolor": "white",
            "ticks": ""
           },
           "bgcolor": "#E5ECF6",
           "radialaxis": {
            "gridcolor": "white",
            "linecolor": "white",
            "ticks": ""
           }
          },
          "scene": {
           "xaxis": {
            "backgroundcolor": "#E5ECF6",
            "gridcolor": "white",
            "gridwidth": 2,
            "linecolor": "white",
            "showbackground": true,
            "ticks": "",
            "zerolinecolor": "white"
           },
           "yaxis": {
            "backgroundcolor": "#E5ECF6",
            "gridcolor": "white",
            "gridwidth": 2,
            "linecolor": "white",
            "showbackground": true,
            "ticks": "",
            "zerolinecolor": "white"
           },
           "zaxis": {
            "backgroundcolor": "#E5ECF6",
            "gridcolor": "white",
            "gridwidth": 2,
            "linecolor": "white",
            "showbackground": true,
            "ticks": "",
            "zerolinecolor": "white"
           }
          },
          "shapedefaults": {
           "line": {
            "color": "#2a3f5f"
           }
          },
          "ternary": {
           "aaxis": {
            "gridcolor": "white",
            "linecolor": "white",
            "ticks": ""
           },
           "baxis": {
            "gridcolor": "white",
            "linecolor": "white",
            "ticks": ""
           },
           "bgcolor": "#E5ECF6",
           "caxis": {
            "gridcolor": "white",
            "linecolor": "white",
            "ticks": ""
           }
          },
          "title": {
           "x": 0.05
          },
          "xaxis": {
           "automargin": true,
           "gridcolor": "white",
           "linecolor": "white",
           "ticks": "",
           "title": {
            "standoff": 15
           },
           "zerolinecolor": "white",
           "zerolinewidth": 2
          },
          "yaxis": {
           "automargin": true,
           "gridcolor": "white",
           "linecolor": "white",
           "ticks": "",
           "title": {
            "standoff": 15
           },
           "zerolinecolor": "white",
           "zerolinewidth": 2
          }
         }
        },
        "xaxis": {
         "anchor": "y",
         "domain": [
          0,
          1
         ],
         "title": {
          "text": "Urban"
         }
        },
        "yaxis": {
         "anchor": "x",
         "domain": [
          0,
          1
         ],
         "title": {
          "text": "Rural"
         }
        }
       }
      }
     },
     "metadata": {},
     "output_type": "display_data"
    }
   ],
   "source": [
    "import pandas as pd\n",
    "import numpy as np\n",
    "import seaborn as sns\n",
    "\n",
    "import matplotlib.pyplot as plt\n",
    "%matplotlib inline\n",
    "\n",
    "from sklearn.cluster import KMeans\n",
    "from sklearn.preprocessing import StandardScaler\n",
    "from sklearn.pipeline import Pipeline\n",
    "from sklearn.manifold import TSNE\n",
    "from sklearn.decomposition import PCA\n",
    "from sklearn.metrics import euclidean_distances\n",
    "from scipy.spatial.distance import cdist\n",
    "\n",
    "import plotly.express as px \n",
    "\n",
    "fig = px.scatter(urban2, x='Urban', y='Rural', color='Urban', \n",
    "hover_data=['Country','Urban','Rural'])\n",
    "fig.show()\n"
   ]
  },
  {
   "cell_type": "markdown",
   "metadata": {},
   "source": [
    "The "
   ]
  },
  {
   "attachments": {},
   "cell_type": "markdown",
   "metadata": {},
   "source": [
    "# 6. Explain the Results using graphs\n",
    "\n"
   ]
  },
  {
   "cell_type": "code",
   "execution_count": 13,
   "metadata": {},
   "outputs": [],
   "source": [
    "# code here"
   ]
  },
  {
   "attachments": {},
   "cell_type": "markdown",
   "metadata": {},
   "source": [
    "# 7. Remarks and Suggestions\n",
    "\n"
   ]
  },
  {
   "attachments": {},
   "cell_type": "markdown",
   "metadata": {},
   "source": [
    "# 8. Article\n"
   ]
  },
  {
   "attachments": {},
   "cell_type": "markdown",
   "metadata": {},
   "source": [
    "### Nuclear Power is The Future\n",
    "\n",
    "each year energy consumption is rising\n",
    "\n",
    "the problem:\n",
    "however that consumption is not sustainable because the non renewable energy sources are limited and causes more harm than good, renewable energy is expensive and not reliable enough to replace non renewable energy sources\n",
    "\n",
    "solution:\n",
    "we should use nuclear energy because it is a clean energy source that is reliable and can be used to replace non renewable energy sources at least until renewable energy sources are more reliable and cheaper\n",
    "\n",
    "structure :\n",
    "- introduction\n",
    "- non-renewables\n",
    "    - what are non-renewables\n",
    "    - status quo of non-renewables\n",
    "    - the benefits of non-renewables (cheap, reliable)\n",
    "    - the disadvantages of non-renewables (limited , pollution, global warming, accidents)\n",
    "- renewables\n",
    "    - what are renewables\n",
    "    - status quo of renewables\n",
    "    - the benefits of renewables (clean, infinite)\n",
    "    - the disadvantages of renewables (expensive, unreliable, )\n",
    "- The perfect solution : nuclear energy\n",
    "    - what is nuclear energy\n",
    "    - status quo nuclear energy\n",
    "    - the benefits of nuclear energy (clean, reliable, extremely efficient)\n",
    "    - the disadvantages of nuclear energy (limited, byproduct waste, accidents)\n",
    "- conclusion"
   ]
  },
  {
   "attachments": {},
   "cell_type": "markdown",
   "metadata": {},
   "source": [
    "# Nuclear Power is The Future\n",
    "\n",
    "## Introduction\n",
    "As our modern civilization continues to grow and evolve, the demand for energy is increasing at an unprecedented rate. However, our current methods of power generation, such as fossil fuels, hydroelectric, and renewable energy sources, are not capable of meeting the world's energy needs on their own. Moreover, these methods of power generation have their own set of limitations and drawbacks, such as air pollution, climate change, and the need for large land areas.\n",
    "\n",
    "To address this issue, nuclear power has emerged as a viable alternative to traditional energy sources. Despite its controversial reputation, nuclear power offers many benefits such as high energy output, low greenhouse gas emissions, and a relatively small environmental footprint. Furthermore, advances in nuclear technology have made it increasingly safe and efficient, with modern nuclear reactors designed with multiple layers of safety features to prevent accidents and mitigate the consequences if they occur.\n",
    "\n",
    "Therefore, as the demand for energy continues to increase, and the need for a sustainable and reliable power source becomes more critical, nuclear power has become an essential consideration for meeting our energy needs in a safe, efficient, and sustainable way.\n",
    "\n",
    "## Non-Renewables\n",
    "\n",
    "### What Are Non-Renewables\n",
    "Non-renewable energy sources are energy resources that are finite and can be depleted over time. They include fossil fuels such as coal, oil, and natural gas, as well as nuclear energy sources like uranium. Yes, uranium, the fuel of nuclear power, we'll talk more about that later.\n",
    "\n",
    "### Status Quo of Non-Renewables\n",
    "Right now, non-renewables are viewed as the dirty and cheap energy. Pollution from non-renewable sources also contributes the most to global warming, smog, and human deaths. Despite the apparent disadvantages, globally, non-renewable energy sources such as fossil fuels, nuclear, and hydroelectric power continue to be the primary sources of energy. ACCORDING TO ........\n",
    "\n",
    "### Benefits of Non-Renewables\n",
    "Non-renewable energy sources like fossil fuels and nuclear power have been the primary sources of energy for human civilization for many decades. While they are not sustainable, they still offer a range of benefits, including:\n",
    "\n",
    "- High Energy Density: Non-renewable energy sources have a high energy density, meaning they contain a significant amount of energy per unit of volume or mass, which makes them a reliable and efficient source of energy.\n",
    "\n",
    "- Cost-Effective: Fossil fuels, in particular, have been the cheapest source of energy for many years, making them an affordable option for powering homes, industries, and transportation.\n",
    "\n",
    "- Reliability: Non-renewable energy sources offer a reliable source of energy that can be used to meet the energy demands of a growing population, ensuring a stable supply of electricity and energy.\n",
    "\n",
    "- Established Infrastructure: The infrastructure for non-renewable energy sources is well-established and readily available, making it easier to supply energy to remote locations or areas with limited infrastructure.\n",
    "\n",
    "## Disadvantages of Non-Renewables\n",
    "\n",
    "Non-renewable energy sources have a range of significant disadvantages, including:\n",
    "\n",
    "- Environmental Impact: Non-renewable energy sources, particularly fossil fuels, have a significant impact on the environment, contributing to air pollution, water pollution, and climate change, which has far-reaching and long-term consequences for the planet and all living beings.\n",
    "\n",
    "- Finite Resources: Non-renewable energy sources are finite and can be depleted over time, which means that they cannot meet the growing energy demands of a growing population indefinitely.\n",
    "\n",
    "- Price Volatility: The price of non-renewable energy sources can be volatile and subject to price fluctuations, which can make it challenging to plan and budget for energy costs.\n",
    "\n",
    "- Health and Safety Risks: Non-renewable energy sources, such as coal mining and oil drilling, pose significant health and safety risks to workers and communities, including accidents, explosions, and exposure to toxic substances. Energy generated from non-renewable sources has the highest death per terawatt ratio.\n",
    "\n",
    "- Geopolitical Tensions: Non-renewable energy sources can contribute to geopolitical tensions and conflicts, particularly in regions where they are abundant or located near strategic locations."
   ]
  },
  {
   "attachments": {},
   "cell_type": "markdown",
   "metadata": {},
   "source": [
    "## Renewables\n",
    "\n",
    "### What are Renewables\n",
    "\n",
    "### Status Quo of Renewables\n",
    "\n",
    "### Benefits of Renewables\n",
    "\n",
    "### Disadvantages of Renewables"
   ]
  },
  {
   "attachments": {},
   "cell_type": "markdown",
   "metadata": {},
   "source": [
    "## Nuclear Power\n",
    "\n",
    "### What is Nuclear Power\n",
    "\n",
    "### Status Quo of Nuclear Power\n",
    "\n",
    "### Benefits of Renewables\n",
    "\n",
    "### Disadvantages of Renewables"
   ]
  },
  {
   "attachments": {},
   "cell_type": "markdown",
   "metadata": {},
   "source": [
    "## Conclusion"
   ]
  },
  {
   "attachments": {},
   "cell_type": "markdown",
   "metadata": {},
   "source": [
    "### Sources\n",
    "\n",
    "https://ourworldindata.org/nuclear-energy\n",
    "https://energydata.info/dataset?q=nuclear"
   ]
  }
 ],
 "metadata": {
  "kernelspec": {
   "display_name": "Python 3",
   "language": "python",
   "name": "python3"
  },
  "language_info": {
   "codemirror_mode": {
    "name": "ipython",
    "version": 3
   },
   "file_extension": ".py",
   "mimetype": "text/x-python",
   "name": "python",
   "nbconvert_exporter": "python",
   "pygments_lexer": "ipython3",
   "version": "3.10.11"
  },
  "orig_nbformat": 4
 },
 "nbformat": 4,
 "nbformat_minor": 2
}
